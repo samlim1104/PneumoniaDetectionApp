{
  "nbformat": 4,
  "nbformat_minor": 0,
  "metadata": {
    "colab": {
      "provenance": [],
      "include_colab_link": true
    },
    "kernelspec": {
      "name": "python3",
      "display_name": "Python 3"
    },
    "accelerator": "GPU"
  },
  "cells": [
    {
      "cell_type": "markdown",
      "metadata": {
        "id": "view-in-github",
        "colab_type": "text"
      },
      "source": [
        "<a href=\"https://colab.research.google.com/github/samlim1104/PneumoniaDetectionApp/blob/main/Section2.ipynb\" target=\"_parent\"><img src=\"https://colab.research.google.com/assets/colab-badge.svg\" alt=\"Open In Colab\"/></a>"
      ]
    },
    {
      "cell_type": "code",
      "metadata": {
        "id": "aSeClkWgIORK",
        "colab": {
          "base_uri": "https://localhost:8080/"
        },
        "outputId": "bf1eab95-1221-420e-fea2-0d838dc72865"
      },
      "source": [
        "#@title Run this to download data and prepare our environment! { display-mode: \"form\" }\n",
        "import numpy as np\n",
        "import pandas as pd\n",
        "\n",
        "import seaborn as sns\n",
        "import matplotlib.pyplot as plt\n",
        "\n",
        "from sklearn.metrics import accuracy_score, confusion_matrix\n",
        "\n",
        "import tensorflow.keras as keras\n",
        "import keras.optimizers as optimizers\n",
        "from keras.models import Sequential\n",
        "from keras.layers import Activation, MaxPooling2D, Dropout, Flatten, InputLayer, Reshape, Dense, Conv2D, GlobalAveragePooling2D, BatchNormalization, Input\n",
        "from keras.regularizers import l2\n",
        "from keras.callbacks import ModelCheckpoint\n",
        "\n",
        "from keras.applications.vgg16 import VGG16\n",
        "from keras.applications.vgg19 import VGG19\n",
        "from tensorflow.keras.applications.resnet50 import ResNet50\n",
        "from keras.applications.densenet import DenseNet121\n",
        "\n",
        "\n",
        "class pkg:\n",
        "  #### DOWNLOADING AND LOADING DATA\n",
        "  def get_metadata(metadata_path, which_splits = ['train', 'test']):\n",
        "    '''returns metadata dataframe which contains columns of:\n",
        "       * index: index of data into numpy data\n",
        "       * class: class of image\n",
        "       * split: which dataset split is this a part of?\n",
        "    '''\n",
        "    metadata = pd.read_csv(metadata_path)\n",
        "    keep_idx = metadata['split'].isin(which_splits)\n",
        "    return metadata[keep_idx]\n",
        "\n",
        "  def get_data_split(split_name, flatten, all_data, metadata, image_shape):\n",
        "    '''\n",
        "    returns images (data), labels from folder of format [image_folder]/[split_name]/[class_name]/\n",
        "    flattens if flatten option is True\n",
        "    '''\n",
        "    sub_df = metadata[metadata['split'].isin([split_name])]\n",
        "    index  = sub_df['index'].values\n",
        "    labels = sub_df['class'].values\n",
        "    data = all_data[index,:]\n",
        "    if flatten:\n",
        "      data = data.reshape([-1, np.prod(image_shape)])\n",
        "    return data, labels\n",
        "\n",
        "  def get_train_data(flatten, all_data, metadata, image_shape):\n",
        "    return get_data_split('train', flatten, all_data, metadata, image_shape)\n",
        "\n",
        "  def get_test_data(flatten, all_data, metadata, image_shape):\n",
        "    return get_data_split('test', flatten, all_data, metadata, image_shape)\n",
        "\n",
        "class helpers:\n",
        "  #### PLOTTING\n",
        "  def plot_one_image(data, labels = [], index = None, image_shape = [64,64,3]):\n",
        "    '''\n",
        "    if data is a single image, display that image\n",
        "\n",
        "    if data is a 4d stack of images, display that image\n",
        "    '''\n",
        "    num_dims   = len(data.shape)\n",
        "    num_labels = len(labels)\n",
        "\n",
        "    # reshape data if necessary\n",
        "    if num_dims == 1:\n",
        "      data = data.reshape(target_shape)\n",
        "    if num_dims == 2:\n",
        "      data = data.reshape(np.vstack[-1, image_shape])\n",
        "    num_dims   = len(data.shape)\n",
        "\n",
        "    # check if single or multiple images\n",
        "    if num_dims == 3:\n",
        "      if num_labels > 1:\n",
        "        print('Multiple labels does not make sense for single image.')\n",
        "        return\n",
        "\n",
        "      label = labels\n",
        "      if num_labels == 0:\n",
        "        label = ''\n",
        "      image = data\n",
        "\n",
        "    if num_dims == 4:\n",
        "      image = data[index, :]\n",
        "      label = labels[index]\n",
        "\n",
        "    # plot image of interest\n",
        "    print('Label: %s'%label)\n",
        "    plt.imshow(image)\n",
        "    plt.show()\n",
        "\n",
        "  def plot_acc(history, ax = None, xlabel = 'Epoch #'):\n",
        "    # i'm sorry for this function's code. i am so sorry.\n",
        "    history = history.history\n",
        "    history.update({'epoch':list(range(len(history['val_accuracy'])))})\n",
        "    history = pd.DataFrame.from_dict(history)\n",
        "\n",
        "    best_epoch = history.sort_values(by = 'val_accuracy', ascending = False).iloc[0]['epoch']\n",
        "\n",
        "    if not ax:\n",
        "      f, ax = plt.subplots(1,1)\n",
        "    sns.lineplot(x = 'epoch', y = 'val_accuracy', data = history, label = 'Validation', ax = ax)\n",
        "    sns.lineplot(x = 'epoch', y = 'accuracy', data = history, label = 'Training', ax = ax)\n",
        "    ax.axhline(0.5, linestyle = '--',color='red', label = 'Chance')\n",
        "    ax.axvline(x = best_epoch, linestyle = '--', color = 'green', label = 'Best Epoch')\n",
        "    ax.legend(loc = 4)\n",
        "    ax.set_ylim([0.4, 1])\n",
        "\n",
        "    ax.set_xlabel(xlabel)\n",
        "    ax.set_ylabel('Accuracy (Fraction)')\n",
        "\n",
        "    plt.show()\n",
        "\n",
        "class models:\n",
        "  def DenseClassifier(hidden_layer_sizes, nn_params):\n",
        "    model = Sequential()\n",
        "    model.add(Input(shape=nn_params['input_shape']))\n",
        "    model.add(Flatten())\n",
        "    model.add(Dropout(0.5))\n",
        "\n",
        "    for ilayer in hidden_layer_sizes:\n",
        "      model.add(Dense(ilayer, activation = 'relu'))\n",
        "      model.add(Dropout(0.5))\n",
        "\n",
        "    model.add(Dense(units = nn_params['output_neurons'], activation = nn_params['output_activation']))\n",
        "    model.compile(loss=nn_params['loss'],\n",
        "                  optimizer= keras.optimizers.SGD(learning_rate=1e-4, momentum=0.95),\n",
        "                  metrics=['accuracy'])\n",
        "    return model\n",
        "\n",
        "  def CNNClassifier(num_hidden_layers, nn_params):\n",
        "    model = Sequential()\n",
        "\n",
        "    model.add(Input(shape=nn_params['input_shape']))\n",
        "    model.add(Conv2D(32, (3, 3), padding='same', kernel_regularizer=l2(0.01), bias_regularizer=l2(0.01)))\n",
        "    model.add(MaxPooling2D(pool_size=(2, 2)))\n",
        "\n",
        "    for i in range(num_hidden_layers-1):\n",
        "        model.add(Conv2D(64, (3, 3), padding = 'same', kernel_regularizer=l2(0.01), bias_regularizer=l2(0.01)))\n",
        "        model.add(Activation('relu'))\n",
        "        model.add(MaxPooling2D(pool_size=(2, 2)))\n",
        "\n",
        "    model.add(Flatten())\n",
        "\n",
        "    model.add(Dense(units = 128, activation = 'relu'))\n",
        "    model.add(Dropout(0.5))\n",
        "    model.add(Dense(units = 64, activation = 'relu', kernel_regularizer=l2(0.01), bias_regularizer=l2(0.01)))\n",
        "    model.add(Dropout(0.5))\n",
        "\n",
        "    model.add(Dense(units = nn_params['output_neurons'], activation = nn_params['output_activation']))\n",
        "\n",
        "    # initiate RMSprop optimizer\n",
        "    opt = keras.optimizers.RMSprop(learning_rate=1e-5)\n",
        "\n",
        "    # Let's train the model using RMSprop\n",
        "    model.compile(loss=nn_params['loss'],\n",
        "                  optimizer=opt,\n",
        "                  metrics=['accuracy'])\n",
        "    return model\n",
        "\n",
        "  def TransferClassifier(name, nn_params, trainable = False):\n",
        "    expert_dict = {'VGG16': VGG16,\n",
        "                   'VGG19': VGG19,\n",
        "                   'ResNet50':ResNet50,\n",
        "                   'DenseNet121':DenseNet121}\n",
        "\n",
        "    expert_conv = expert_dict[name](weights = 'imagenet',\n",
        "                                              include_top = False,\n",
        "                                              input_shape = nn_params['input_shape'])\n",
        "    for layer in expert_conv.layers:\n",
        "      layer.trainable = trainable\n",
        "\n",
        "    expert_model = Sequential()\n",
        "    expert_model.add(expert_conv)\n",
        "    expert_model.add(GlobalAveragePooling2D())\n",
        "\n",
        "    expert_model.add(Dense(128, activation = 'relu'))\n",
        "    # expert_model.add(Dropout(0.3))\n",
        "\n",
        "    expert_model.add(Dense(64, activation = 'relu'))\n",
        "    # expert_model.add(Dropout(0.3))\n",
        "\n",
        "    expert_model.add(Dense(nn_params['output_neurons'], activation = nn_params['output_activation']))\n",
        "\n",
        "    expert_model.compile(loss = nn_params['loss'],\n",
        "                  optimizer = keras.optimizers.SGD(learning_rate=1e-4, momentum=0.9),\n",
        "                  metrics=['accuracy'])\n",
        "\n",
        "    return expert_model\n",
        "\n",
        "### defining project variables\n",
        "# file variables\n",
        "metadata_url         = \"https://storage.googleapis.com/inspirit-ai-data-bucket-1/Data/AI%20Scholars/Sessions%206%20-%2010%20(Projects)/Project%20-%20(Healthcare%20A)%20Pneumonia/metadata.csv\"\n",
        "image_data_url       = 'https://storage.googleapis.com/inspirit-ai-data-bucket-1/Data/AI%20Scholars/Sessions%206%20-%2010%20(Projects)/Project%20-%20(Healthcare%20A)%20Pneumonia/image_data.npy'\n",
        "image_data_path      = './image_data.npy'\n",
        "metadata_path        = './metadata.csv'\n",
        "image_shape          = (64, 64, 3)\n",
        "\n",
        "# neural net parameters\n",
        "nn_params = {}\n",
        "nn_params['input_shape']       = image_shape\n",
        "nn_params['output_neurons']    = 1\n",
        "nn_params['loss']              = 'binary_crossentropy'\n",
        "nn_params['output_activation'] = 'sigmoid'\n",
        "\n",
        "###\n",
        "!wget -q --show-progress \"https://storage.googleapis.com/inspirit-ai-data-bucket-1/Data/AI%20Scholars/Sessions%206%20-%2010%20(Projects)/Project%20-%20(Healthcare%20A)%20Pneumonia/metadata.csv\"\n",
        "!wget -q --show-progress \"https://storage.googleapis.com/inspirit-ai-data-bucket-1/Data/AI%20Scholars/Sessions%206%20-%2010%20(Projects)/Project%20-%20(Healthcare%20A)%20Pneumonia/image_data.npy\"\n",
        "\n",
        "### pre-loading all data of interest\n",
        "_all_data = np.load('image_data.npy')\n",
        "_metadata = pkg.get_metadata(metadata_path, ['train','test','field'])\n",
        "\n",
        "### preparing definitions\n",
        "# downloading and loading data\n",
        "get_data_split = pkg.get_data_split\n",
        "get_metadata    = lambda :                 pkg.get_metadata(metadata_path, ['train','test'])\n",
        "get_train_data  = lambda flatten = False : pkg.get_train_data(flatten = flatten, all_data = _all_data, metadata = _metadata, image_shape = image_shape)\n",
        "get_test_data   = lambda flatten = False : pkg.get_test_data(flatten = flatten, all_data = _all_data, metadata = _metadata, image_shape = image_shape)\n",
        "\n",
        "# plotting\n",
        "plot_one_image = lambda data, labels = [], index = None: helpers.plot_one_image(data = data, labels = labels, index = index, image_shape = image_shape);\n",
        "plot_acc       = lambda history: helpers.plot_acc(history)\n",
        "\n",
        "# models with input parameters\n",
        "DenseClassifier     = lambda hidden_layer_sizes: models.DenseClassifier(hidden_layer_sizes = hidden_layer_sizes, nn_params = nn_params);\n",
        "CNNClassifier       = lambda num_hidden_layers: models.CNNClassifier(num_hidden_layers, nn_params = nn_params);\n",
        "TransferClassifier  = lambda name: models.TransferClassifier(name = name, nn_params = nn_params);\n",
        "\n",
        "monitor = ModelCheckpoint('./model.keras', monitor='val_accuracy', verbose=0, save_best_only=True, save_weights_only=False, mode='auto', save_freq='epoch')"
      ],
      "execution_count": 4,
      "outputs": [
        {
          "output_type": "stream",
          "name": "stdout",
          "text": [
            "metadata.csv.1      100%[===================>]  39.56K  --.-KB/s    in 0s      \n",
            "image_data.npy.1    100%[===================>] 131.25M   234MB/s    in 0.6s    \n"
          ]
        }
      ]
    },
    {
      "cell_type": "markdown",
      "metadata": {
        "id": "SYqvCKWpKfRM"
      },
      "source": [
        "### What are neural networks?"
      ]
    },
    {
      "cell_type": "markdown",
      "metadata": {
        "id": "qA1Rc_u3KoJT"
      },
      "source": [
        "Just as we went over last week, neural networks look something like this:\n",
        "![A 2 layer neural network](https://cdn-images-1.medium.com/max/1600/1*DW0Ccmj1hZ0OvSXi7Kz5MQ.jpeg)\n"
      ]
    },
    {
      "cell_type": "markdown",
      "metadata": {
        "id": "3Q9S6SDcM8N9"
      },
      "source": [
        "Each orange and blue node is a neuron. The network itself is composed of a bunch of neurons that talk to each other and eventually give us a prediction. Let's get a bit more concrete with this..."
      ]
    },
    {
      "cell_type": "markdown",
      "metadata": {
        "id": "E--8mjToZYBp"
      },
      "source": [
        "To build neural networks in Python, we use the packages known as `tensorflow` and `keras`. Let's learn how to build and use these networks!"
      ]
    },
    {
      "cell_type": "code",
      "metadata": {
        "id": "cqFAnQCxsgRm"
      },
      "source": [
        "# grab tools from our tensorflow and keras toolboxes!\n",
        "import tensorflow.keras as keras\n",
        "from keras.models import Sequential\n",
        "from keras.layers import Activation, Dropout, Flatten, Dense, BatchNormalization\n",
        "from keras import optimizers"
      ],
      "execution_count": 5,
      "outputs": []
    },
    {
      "cell_type": "markdown",
      "metadata": {
        "id": "fq4G0hDwZKnM"
      },
      "source": [
        "## Exercise (Coding): A 2-Layer Model"
      ]
    },
    {
      "cell_type": "markdown",
      "metadata": {
        "id": "Bj-Pt3wGCXRu"
      },
      "source": [
        "\n",
        "We're going to build this model:\n",
        "\n",
        "![](http://cs231n.github.io/assets/nn1/neural_net.jpeg)"
      ]
    },
    {
      "cell_type": "markdown",
      "metadata": {
        "id": "H-6WGeedvTCS"
      },
      "source": [
        "This network can be described as:\n",
        "* **Input Layer**: 3 neurons\n",
        "* **Layer 1 (Hidden)**: 4 neurons with the `'relu'` activation function\n",
        "* **Layer 2 (Output)**: 2 neurons with the `'softmax'` activation function\n",
        "\n",
        "We're going to set up a **Sequential** model by adding on a sequence of layers. We will also have **Dense** layers, meaning each neuron of the previous layer connects to each neuron of this layer.\n",
        "\n",
        "We'll compile our model to make it ready to use! We'll use:\n",
        "- `loss = 'categorical_crossentropy'` (how to measure the model's performance while it trains)\n",
        "- `optimizer = 'adam'` (an algorithm for adjusting the weights)\n",
        "- `metric = 'accuracy'` (how to measure the model's performance at the end)\n",
        "\n",
        "Try it out below!\"\n",
        "\n",
        "The information about the `shape` parameter has been added to clarify the input data's expected shape for the first layer. This parameter plays a crucial role in defining the model's architecture and ensuring that the subsequent layers receive data with the correct dimensions.\n",
        "\n",
        "*Hint: Look back to your CNN Notebook to check the syntax for this code!*"
      ]
    },
    {
      "cell_type": "code",
      "metadata": {
        "id": "-zgA-wPfvCyK"
      },
      "source": [
        "# Fill in the blanks with your group!\n",
        "### YOUR CODE HERE:\n",
        "model_1 = Sequential()\n",
        "model_1.add(InputLayer(shape=(3,)))\n",
        "model_1.add(Dense(4, activation = 'relu'))\n",
        "model_1.add(Dense(2, activation = 'softmax'))\n",
        "model_1.compile(loss='categorical_crossentropy',\n",
        "                optimizer = 'adam',\n",
        "                metrics = ['accuracy'])\n",
        "### END CODE"
      ],
      "execution_count": 6,
      "outputs": []
    },
    {
      "cell_type": "markdown",
      "source": [
        "Let's walk though what each of these lines of code means!\n",
        "\n",
        "**1. Specify model**\n",
        "\n",
        "```\n",
        "model = Sequential()\n",
        "```\n",
        "In this line of code, we build our network where the information flows from LEFT to RIGHT through the network in ONE DIRECTION as opposed to multiple directions. Neurons on the right never pass informations to neurons on the left of it.\n",
        "\n",
        "\n",
        "**2. Add layers to the network**\n",
        "```\n",
        "model.add(Dense(4,shape = (3,), activation = 'softmax'))\n",
        "```\n",
        "In this code, we `add` a `layer` of neurons to our network.\n",
        "\n",
        "This layers consists of 4 neurons. Each neuron is DENSE and connects to all of the previous layer's inputs and all of the subsequent layers outputs. We specify that there are 3 inputs here.\n",
        "\n",
        "We also specify what kind of output the neuron will give. If you want the neuron to output a number between 0 and 1 (like a probability!) you would use 'softmax' or 'softmax'. If you want the neuron to output any number, you can use 'linear'! You'll also often see 'relu', which is when a neuron will only output positive numbers.\n",
        "\n",
        "```\n",
        "model.add(Dense(1, activation = 'linear'))\n",
        "```\n",
        "This code adds ANOTHER layer to the network that has 1 neuron. This one neuron is used to predict a continuous value!\n",
        "\n",
        "**3. Turn the model on by compiling it**\n",
        "\n",
        "After having built the network, we want to train and use it, so we have to 'turn it on' and 'compile' it. To turn it on, we have to specify at the very least, a loss, an optimizer, and some ways of evaluating the model (metrics). Don't worry too much about what this means! Just know that this is necessary.\n",
        "\n",
        "```\n",
        "model.compile(loss='mean_squared_error',\n",
        "optimizer = 'adam',\n",
        "metrics = ['mean_squared_error'])\n",
        "  ```"
      ],
      "metadata": {
        "id": "DJwn4S87zsHk"
      }
    },
    {
      "cell_type": "code",
      "metadata": {
        "id": "IH2UGOK4vuZ4",
        "colab": {
          "base_uri": "https://localhost:8080/"
        },
        "outputId": "fd3ef4ff-dff5-44ae-a3e2-ddd0625dce46"
      },
      "source": [
        "#@title Run this to test if your model is right!\n",
        "model_1_answer = Sequential()\n",
        "model_1_answer.add(InputLayer(shape=(3,)))\n",
        "model_1_answer.add(Dense(4, activation = 'relu'))\n",
        "model_1_answer.add(Dense(2, activation = 'softmax'))\n",
        "model_1_answer.compile(loss='categorical_crossentropy',\n",
        "optimizer = 'adam',\n",
        "metrics = ['accuracy'])\n",
        "\n",
        "model_1_config = model_1.get_config()\n",
        "\n",
        "del model_1_config[\"name\"]\n",
        "for layer in model_1_config[\"layers\"]:\n",
        "  del layer[\"config\"][\"name\"]\n",
        "\n",
        "model_1_answer_config = model_1_answer.get_config()\n",
        "\n",
        "del model_1_answer_config[\"name\"]\n",
        "for layer in model_1_answer_config[\"layers\"]:\n",
        "  del layer[\"config\"][\"name\"]\n",
        "\n",
        "if model_1_answer_config == model_1_config:\n",
        "  print('Good job! Your model worked')\n",
        "else:\n",
        "  print('Please check your code again!')"
      ],
      "execution_count": 7,
      "outputs": [
        {
          "output_type": "stream",
          "name": "stdout",
          "text": [
            "Good job! Your model worked\n"
          ]
        }
      ]
    },
    {
      "cell_type": "markdown",
      "metadata": {
        "id": "GNBg8obslWlo"
      },
      "source": [
        "This is a toy example, so we won't train our model with real data - but we can feed in some fake inputs to see what happens! **How many inputs do we need?**\n"
      ]
    },
    {
      "cell_type": "code",
      "metadata": {
        "id": "vE_C03CplcyY"
      },
      "source": [
        "input_data = np.array([[3, 4, 3]]) #Fill in inputs here! How many?"
      ],
      "execution_count": 8,
      "outputs": []
    },
    {
      "cell_type": "markdown",
      "metadata": {
        "id": "IJMbtRllotiY"
      },
      "source": [
        "Let's try it out! What does **predict** do? How do you interpret the outputs?"
      ]
    },
    {
      "cell_type": "code",
      "metadata": {
        "id": "JIiU4_ngotGh",
        "colab": {
          "base_uri": "https://localhost:8080/"
        },
        "outputId": "ddd668cb-9a49-4309-c3f6-2830c51ab813"
      },
      "source": [
        "print(model_1.predict(input_data))\n",
        "print((model_1.predict(input_data) > 0.5).astype(\"int32\"))"
      ],
      "execution_count": 9,
      "outputs": [
        {
          "output_type": "stream",
          "name": "stdout",
          "text": [
            "\u001b[1m1/1\u001b[0m \u001b[32m━━━━━━━━━━━━━━━━━━━━\u001b[0m\u001b[37m\u001b[0m \u001b[1m0s\u001b[0m 326ms/step\n",
            "[[9.2165908e-05 9.9990785e-01]]\n",
            "\u001b[1m1/1\u001b[0m \u001b[32m━━━━━━━━━━━━━━━━━━━━\u001b[0m\u001b[37m\u001b[0m \u001b[1m0s\u001b[0m 28ms/step\n",
            "[[0 1]]\n"
          ]
        }
      ]
    },
    {
      "cell_type": "markdown",
      "metadata": {
        "id": "PD3Z0QamJF68"
      },
      "source": [
        "\n",
        "In our problem, we are given `images` of shape `(64,64,3)`, each assigned a label **pneumonia** or **healthy**. We want to identify the key things that we need to design our network.\n",
        "\n",
        "In your group, discuss:\n",
        "\n",
        "* What are our inputs?\n",
        "* What is/are our outputs?\n",
        "\n",
        "How could this look in a neural network diagram?\n",
        "\n",
        "**Brainstorm and sketch out a neural network that would work for this problem, and share with the group!**\n",
        "\n",
        "**Optional Exercise:** Following the setup from Notebook 1, create and test a neural network using Scikit-learn for this problem. [MLPClassifier](https://scikit-learn.org/stable/modules/generated/sklearn.neural_network.MLPClassifier.html) gives you a simple neural network!"
      ]
    },
    {
      "cell_type": "markdown",
      "source": [
        "## Instructor Solution\n",
        "<details><summary>click to reveal!</summary>\n",
        "\n",
        "* What are our inputs?\n",
        "  -- Images\n",
        "* What is/are our outputs?\n",
        "  -- Pneumonia or Healthy\n"
      ],
      "metadata": {
        "id": "njEvPRjSLPOe"
      }
    },
    {
      "cell_type": "code",
      "metadata": {
        "id": "s2fStUprqjmY",
        "colab": {
          "base_uri": "https://localhost:8080/"
        },
        "outputId": "8c6f53a9-2de9-4183-d723-bde179215ebd"
      },
      "source": [
        "from sklearn.neural_network import MLPClassifier\n",
        "\n",
        "X_train, y_train = get_train_data(flatten = True)\n",
        "X_test, y_test = get_test_data(flatten = True)\n",
        "\n",
        "clf = MLPClassifier(hidden_layer_sizes=(5))\n",
        "clf.fit(X_train,y_train)\n",
        "y_pred = clf.predict(X_test)\n",
        "score = accuracy_score(y_test, y_pred)\n",
        "print(score)"
      ],
      "execution_count": 10,
      "outputs": [
        {
          "output_type": "stream",
          "name": "stdout",
          "text": [
            "0.71\n"
          ]
        },
        {
          "output_type": "stream",
          "name": "stderr",
          "text": [
            "/usr/local/lib/python3.11/dist-packages/sklearn/neural_network/_multilayer_perceptron.py:691: ConvergenceWarning: Stochastic Optimizer: Maximum iterations (200) reached and the optimization hasn't converged yet.\n",
            "  warnings.warn(\n"
          ]
        }
      ]
    },
    {
      "cell_type": "markdown",
      "metadata": {
        "id": "47bngTjCT_pM"
      },
      "source": [
        "Now, let's try out 'Convolutional Neural Networks'! Convolutional neural networks are networks that process images much like our visual system does. We'll use a Keras wrapper that abstracts away the details - talk to your instructor if you're interested in exploring CNN with more details!\n",
        "\n",
        "First, let's get our data. **Why do we not use flattened data for CNNs?**\n",
        "\n"
      ]
    },
    {
      "cell_type": "code",
      "metadata": {
        "id": "YeA8gWV6sqai"
      },
      "source": [
        "X_train, y_train = get_train_data()\n",
        "X_test, y_test = get_test_data()"
      ],
      "execution_count": 12,
      "outputs": []
    },
    {
      "cell_type": "markdown",
      "metadata": {
        "id": "01ayM3u3sXA-"
      },
      "source": [
        "### Creating Models\n",
        "Now, let's create a model! In fact, let's create two:\n",
        "\n",
        "\n",
        "For a \"vanilla\" neural network:\n",
        "\n",
        "```\n",
        "dense = DenseClassifier(hidden_layer_sizes = (64,32))\n",
        "```\n",
        "* hidden_layer_sizes: the number of neurons in each hidden layer\n",
        "* epochs: the number of times that our network trains on all of the training data\n",
        "\n",
        "\n",
        "For a convolutional neural network:\n",
        "```\n",
        "cnn = CNNClassifier(num_hidden_layers = 1)\n",
        "```\n",
        "* num_hidden_layers: the number of hidden layers\n",
        "\n",
        "**Create your models below!** Use any hidden layer sizes you like."
      ]
    },
    {
      "cell_type": "code",
      "metadata": {
        "id": "YTb16LvwtGNW"
      },
      "source": [
        "#YOUR CODE HERE\n",
        "dense = DenseClassifier(hidden_layer_sizes = (64,32))\n",
        "cnn = CNNClassifier(num_hidden_layers = 3)"
      ],
      "execution_count": 13,
      "outputs": []
    },
    {
      "cell_type": "markdown",
      "metadata": {
        "id": "pIFymjNnsNPC"
      },
      "source": [
        "### Fitting and Scoring\n",
        "Now, let's fit  our models!\n",
        "\n",
        "There are default parameters to `.fit` you can call:\n",
        "\n",
        "```\n",
        "model_history = model.fit(X_train, y_train, epochs = 100, validation_data = (X_test, y_test), shuffle = True, callbacks = [monitor])\n",
        "```\n",
        "\n",
        "The `shuffle` parameter is important for shuffling the training data before each epoch. The `monitor` callback is used to get a view on internal states and statistics of the model during training. Please don't change these parameters!\n",
        "\n",
        "**Fit your models below!**"
      ]
    },
    {
      "cell_type": "code",
      "metadata": {
        "id": "oUgtK9n6t2CU",
        "colab": {
          "base_uri": "https://localhost:8080/"
        },
        "outputId": "79bc8e64-bfeb-4c70-e2a0-7a4d26f279fd"
      },
      "source": [
        "#YOUR CODE HERE\n",
        "dense_history = dense.fit(X_train, y_train, epochs = 25, validation_data = (X_test, y_test), shuffle = True, callbacks = [monitor])\n",
        "cnn_history = cnn.fit(X_train, y_train, epochs = 25, validation_data = (X_test, y_test), shuffle = True, callbacks = [monitor])"
      ],
      "execution_count": 14,
      "outputs": [
        {
          "output_type": "stream",
          "name": "stdout",
          "text": [
            "Epoch 1/25\n",
            "\u001b[1m63/63\u001b[0m \u001b[32m━━━━━━━━━━━━━━━━━━━━\u001b[0m\u001b[37m\u001b[0m \u001b[1m6s\u001b[0m 51ms/step - accuracy: 0.5124 - loss: 0.8578 - val_accuracy: 0.5000 - val_loss: 0.6930\n",
            "Epoch 2/25\n",
            "\u001b[1m63/63\u001b[0m \u001b[32m━━━━━━━━━━━━━━━━━━━━\u001b[0m\u001b[37m\u001b[0m \u001b[1m0s\u001b[0m 4ms/step - accuracy: 0.5041 - loss: 0.7062 - val_accuracy: 0.5650 - val_loss: 0.6921\n",
            "Epoch 3/25\n",
            "\u001b[1m63/63\u001b[0m \u001b[32m━━━━━━━━━━━━━━━━━━━━\u001b[0m\u001b[37m\u001b[0m \u001b[1m0s\u001b[0m 4ms/step - accuracy: 0.5037 - loss: 0.6988 - val_accuracy: 0.5450 - val_loss: 0.6895\n",
            "Epoch 4/25\n",
            "\u001b[1m63/63\u001b[0m \u001b[32m━━━━━━━━━━━━━━━━━━━━\u001b[0m\u001b[37m\u001b[0m \u001b[1m0s\u001b[0m 5ms/step - accuracy: 0.5603 - loss: 0.6864 - val_accuracy: 0.6700 - val_loss: 0.6841\n",
            "Epoch 5/25\n",
            "\u001b[1m63/63\u001b[0m \u001b[32m━━━━━━━━━━━━━━━━━━━━\u001b[0m\u001b[37m\u001b[0m \u001b[1m0s\u001b[0m 4ms/step - accuracy: 0.5583 - loss: 0.6883 - val_accuracy: 0.6850 - val_loss: 0.6783\n",
            "Epoch 6/25\n",
            "\u001b[1m63/63\u001b[0m \u001b[32m━━━━━━━━━━━━━━━━━━━━\u001b[0m\u001b[37m\u001b[0m \u001b[1m0s\u001b[0m 5ms/step - accuracy: 0.5782 - loss: 0.6801 - val_accuracy: 0.7400 - val_loss: 0.6642\n",
            "Epoch 7/25\n",
            "\u001b[1m63/63\u001b[0m \u001b[32m━━━━━━━━━━━━━━━━━━━━\u001b[0m\u001b[37m\u001b[0m \u001b[1m1s\u001b[0m 4ms/step - accuracy: 0.5994 - loss: 0.6618 - val_accuracy: 0.6975 - val_loss: 0.6448\n",
            "Epoch 8/25\n",
            "\u001b[1m63/63\u001b[0m \u001b[32m━━━━━━━━━━━━━━━━━━━━\u001b[0m\u001b[37m\u001b[0m \u001b[1m0s\u001b[0m 5ms/step - accuracy: 0.6050 - loss: 0.6536 - val_accuracy: 0.8175 - val_loss: 0.6342\n",
            "Epoch 9/25\n",
            "\u001b[1m63/63\u001b[0m \u001b[32m━━━━━━━━━━━━━━━━━━━━\u001b[0m\u001b[37m\u001b[0m \u001b[1m1s\u001b[0m 4ms/step - accuracy: 0.6372 - loss: 0.6378 - val_accuracy: 0.8125 - val_loss: 0.6118\n",
            "Epoch 10/25\n",
            "\u001b[1m63/63\u001b[0m \u001b[32m━━━━━━━━━━━━━━━━━━━━\u001b[0m\u001b[37m\u001b[0m \u001b[1m0s\u001b[0m 4ms/step - accuracy: 0.6392 - loss: 0.6398 - val_accuracy: 0.7975 - val_loss: 0.5955\n",
            "Epoch 11/25\n",
            "\u001b[1m63/63\u001b[0m \u001b[32m━━━━━━━━━━━━━━━━━━━━\u001b[0m\u001b[37m\u001b[0m \u001b[1m0s\u001b[0m 4ms/step - accuracy: 0.6513 - loss: 0.6230 - val_accuracy: 0.7825 - val_loss: 0.6068\n",
            "Epoch 12/25\n",
            "\u001b[1m63/63\u001b[0m \u001b[32m━━━━━━━━━━━━━━━━━━━━\u001b[0m\u001b[37m\u001b[0m \u001b[1m0s\u001b[0m 4ms/step - accuracy: 0.6568 - loss: 0.6091 - val_accuracy: 0.7975 - val_loss: 0.5698\n",
            "Epoch 13/25\n",
            "\u001b[1m63/63\u001b[0m \u001b[32m━━━━━━━━━━━━━━━━━━━━\u001b[0m\u001b[37m\u001b[0m \u001b[1m0s\u001b[0m 4ms/step - accuracy: 0.6530 - loss: 0.6091 - val_accuracy: 0.8325 - val_loss: 0.5417\n",
            "Epoch 14/25\n",
            "\u001b[1m63/63\u001b[0m \u001b[32m━━━━━━━━━━━━━━━━━━━━\u001b[0m\u001b[37m\u001b[0m \u001b[1m0s\u001b[0m 4ms/step - accuracy: 0.7014 - loss: 0.5889 - val_accuracy: 0.8250 - val_loss: 0.5068\n",
            "Epoch 15/25\n",
            "\u001b[1m63/63\u001b[0m \u001b[32m━━━━━━━━━━━━━━━━━━━━\u001b[0m\u001b[37m\u001b[0m \u001b[1m0s\u001b[0m 4ms/step - accuracy: 0.6992 - loss: 0.5460 - val_accuracy: 0.7750 - val_loss: 0.5310\n",
            "Epoch 16/25\n",
            "\u001b[1m63/63\u001b[0m \u001b[32m━━━━━━━━━━━━━━━━━━━━\u001b[0m\u001b[37m\u001b[0m \u001b[1m0s\u001b[0m 4ms/step - accuracy: 0.7293 - loss: 0.5307 - val_accuracy: 0.7900 - val_loss: 0.4878\n",
            "Epoch 17/25\n",
            "\u001b[1m63/63\u001b[0m \u001b[32m━━━━━━━━━━━━━━━━━━━━\u001b[0m\u001b[37m\u001b[0m \u001b[1m0s\u001b[0m 4ms/step - accuracy: 0.7248 - loss: 0.5165 - val_accuracy: 0.8300 - val_loss: 0.4839\n",
            "Epoch 18/25\n",
            "\u001b[1m63/63\u001b[0m \u001b[32m━━━━━━━━━━━━━━━━━━━━\u001b[0m\u001b[37m\u001b[0m \u001b[1m0s\u001b[0m 4ms/step - accuracy: 0.7158 - loss: 0.5318 - val_accuracy: 0.7850 - val_loss: 0.4813\n",
            "Epoch 19/25\n",
            "\u001b[1m63/63\u001b[0m \u001b[32m━━━━━━━━━━━━━━━━━━━━\u001b[0m\u001b[37m\u001b[0m \u001b[1m0s\u001b[0m 4ms/step - accuracy: 0.7521 - loss: 0.5067 - val_accuracy: 0.7250 - val_loss: 0.5154\n",
            "Epoch 20/25\n",
            "\u001b[1m63/63\u001b[0m \u001b[32m━━━━━━━━━━━━━━━━━━━━\u001b[0m\u001b[37m\u001b[0m \u001b[1m0s\u001b[0m 4ms/step - accuracy: 0.7525 - loss: 0.5134 - val_accuracy: 0.8375 - val_loss: 0.4448\n",
            "Epoch 21/25\n",
            "\u001b[1m63/63\u001b[0m \u001b[32m━━━━━━━━━━━━━━━━━━━━\u001b[0m\u001b[37m\u001b[0m \u001b[1m0s\u001b[0m 4ms/step - accuracy: 0.7698 - loss: 0.4693 - val_accuracy: 0.8250 - val_loss: 0.4628\n",
            "Epoch 22/25\n",
            "\u001b[1m63/63\u001b[0m \u001b[32m━━━━━━━━━━━━━━━━━━━━\u001b[0m\u001b[37m\u001b[0m \u001b[1m0s\u001b[0m 4ms/step - accuracy: 0.7854 - loss: 0.4643 - val_accuracy: 0.8300 - val_loss: 0.4295\n",
            "Epoch 23/25\n",
            "\u001b[1m63/63\u001b[0m \u001b[32m━━━━━━━━━━━━━━━━━━━━\u001b[0m\u001b[37m\u001b[0m \u001b[1m0s\u001b[0m 4ms/step - accuracy: 0.7734 - loss: 0.4693 - val_accuracy: 0.8300 - val_loss: 0.4376\n",
            "Epoch 24/25\n",
            "\u001b[1m63/63\u001b[0m \u001b[32m━━━━━━━━━━━━━━━━━━━━\u001b[0m\u001b[37m\u001b[0m \u001b[1m0s\u001b[0m 4ms/step - accuracy: 0.7842 - loss: 0.4730 - val_accuracy: 0.7875 - val_loss: 0.4370\n",
            "Epoch 25/25\n",
            "\u001b[1m63/63\u001b[0m \u001b[32m━━━━━━━━━━━━━━━━━━━━\u001b[0m\u001b[37m\u001b[0m \u001b[1m0s\u001b[0m 4ms/step - accuracy: 0.7911 - loss: 0.4217 - val_accuracy: 0.7725 - val_loss: 0.4486\n",
            "Epoch 1/25\n",
            "\u001b[1m63/63\u001b[0m \u001b[32m━━━━━━━━━━━━━━━━━━━━\u001b[0m\u001b[37m\u001b[0m \u001b[1m9s\u001b[0m 66ms/step - accuracy: 0.4923 - loss: 2.6663 - val_accuracy: 0.5000 - val_loss: 2.6392\n",
            "Epoch 2/25\n",
            "\u001b[1m63/63\u001b[0m \u001b[32m━━━━━━━━━━━━━━━━━━━━\u001b[0m\u001b[37m\u001b[0m \u001b[1m3s\u001b[0m 8ms/step - accuracy: 0.5304 - loss: 2.6359 - val_accuracy: 0.5025 - val_loss: 2.6119\n",
            "Epoch 3/25\n",
            "\u001b[1m63/63\u001b[0m \u001b[32m━━━━━━━━━━━━━━━━━━━━\u001b[0m\u001b[37m\u001b[0m \u001b[1m0s\u001b[0m 6ms/step - accuracy: 0.5521 - loss: 2.6043 - val_accuracy: 0.6125 - val_loss: 2.5849\n",
            "Epoch 4/25\n",
            "\u001b[1m63/63\u001b[0m \u001b[32m━━━━━━━━━━━━━━━━━━━━\u001b[0m\u001b[37m\u001b[0m \u001b[1m0s\u001b[0m 6ms/step - accuracy: 0.5882 - loss: 2.5744 - val_accuracy: 0.6375 - val_loss: 2.5566\n",
            "Epoch 5/25\n",
            "\u001b[1m63/63\u001b[0m \u001b[32m━━━━━━━━━━━━━━━━━━━━\u001b[0m\u001b[37m\u001b[0m \u001b[1m0s\u001b[0m 6ms/step - accuracy: 0.5992 - loss: 2.5492 - val_accuracy: 0.6800 - val_loss: 2.5273\n",
            "Epoch 6/25\n",
            "\u001b[1m63/63\u001b[0m \u001b[32m━━━━━━━━━━━━━━━━━━━━\u001b[0m\u001b[37m\u001b[0m \u001b[1m0s\u001b[0m 6ms/step - accuracy: 0.6420 - loss: 2.5159 - val_accuracy: 0.7650 - val_loss: 2.4986\n",
            "Epoch 7/25\n",
            "\u001b[1m63/63\u001b[0m \u001b[32m━━━━━━━━━━━━━━━━━━━━\u001b[0m\u001b[37m\u001b[0m \u001b[1m1s\u001b[0m 9ms/step - accuracy: 0.6629 - loss: 2.4875 - val_accuracy: 0.7450 - val_loss: 2.4708\n",
            "Epoch 8/25\n",
            "\u001b[1m63/63\u001b[0m \u001b[32m━━━━━━━━━━━━━━━━━━━━\u001b[0m\u001b[37m\u001b[0m \u001b[1m1s\u001b[0m 10ms/step - accuracy: 0.7084 - loss: 2.4577 - val_accuracy: 0.8450 - val_loss: 2.4433\n",
            "Epoch 9/25\n",
            "\u001b[1m63/63\u001b[0m \u001b[32m━━━━━━━━━━━━━━━━━━━━\u001b[0m\u001b[37m\u001b[0m \u001b[1m1s\u001b[0m 9ms/step - accuracy: 0.7050 - loss: 2.4304 - val_accuracy: 0.8300 - val_loss: 2.4142\n",
            "Epoch 10/25\n",
            "\u001b[1m63/63\u001b[0m \u001b[32m━━━━━━━━━━━━━━━━━━━━\u001b[0m\u001b[37m\u001b[0m \u001b[1m1s\u001b[0m 7ms/step - accuracy: 0.7329 - loss: 2.4038 - val_accuracy: 0.8600 - val_loss: 2.3857\n",
            "Epoch 11/25\n",
            "\u001b[1m63/63\u001b[0m \u001b[32m━━━━━━━━━━━━━━━━━━━━\u001b[0m\u001b[37m\u001b[0m \u001b[1m1s\u001b[0m 6ms/step - accuracy: 0.7320 - loss: 2.3768 - val_accuracy: 0.8400 - val_loss: 2.3568\n",
            "Epoch 12/25\n",
            "\u001b[1m63/63\u001b[0m \u001b[32m━━━━━━━━━━━━━━━━━━━━\u001b[0m\u001b[37m\u001b[0m \u001b[1m0s\u001b[0m 6ms/step - accuracy: 0.7582 - loss: 2.3435 - val_accuracy: 0.8325 - val_loss: 2.3294\n",
            "Epoch 13/25\n",
            "\u001b[1m63/63\u001b[0m \u001b[32m━━━━━━━━━━━━━━━━━━━━\u001b[0m\u001b[37m\u001b[0m \u001b[1m0s\u001b[0m 6ms/step - accuracy: 0.7593 - loss: 2.3224 - val_accuracy: 0.8550 - val_loss: 2.3009\n",
            "Epoch 14/25\n",
            "\u001b[1m63/63\u001b[0m \u001b[32m━━━━━━━━━━━━━━━━━━━━\u001b[0m\u001b[37m\u001b[0m \u001b[1m1s\u001b[0m 6ms/step - accuracy: 0.7808 - loss: 2.2878 - val_accuracy: 0.8450 - val_loss: 2.2760\n",
            "Epoch 15/25\n",
            "\u001b[1m63/63\u001b[0m \u001b[32m━━━━━━━━━━━━━━━━━━━━\u001b[0m\u001b[37m\u001b[0m \u001b[1m0s\u001b[0m 6ms/step - accuracy: 0.7849 - loss: 2.2641 - val_accuracy: 0.8550 - val_loss: 2.2471\n",
            "Epoch 16/25\n",
            "\u001b[1m63/63\u001b[0m \u001b[32m━━━━━━━━━━━━━━━━━━━━\u001b[0m\u001b[37m\u001b[0m \u001b[1m1s\u001b[0m 6ms/step - accuracy: 0.7836 - loss: 2.2386 - val_accuracy: 0.8575 - val_loss: 2.2160\n",
            "Epoch 17/25\n",
            "\u001b[1m63/63\u001b[0m \u001b[32m━━━━━━━━━━━━━━━━━━━━\u001b[0m\u001b[37m\u001b[0m \u001b[1m1s\u001b[0m 6ms/step - accuracy: 0.8015 - loss: 2.2064 - val_accuracy: 0.8500 - val_loss: 2.1881\n",
            "Epoch 18/25\n",
            "\u001b[1m63/63\u001b[0m \u001b[32m━━━━━━━━━━━━━━━━━━━━\u001b[0m\u001b[37m\u001b[0m \u001b[1m1s\u001b[0m 6ms/step - accuracy: 0.8206 - loss: 2.1710 - val_accuracy: 0.8575 - val_loss: 2.1602\n",
            "Epoch 19/25\n",
            "\u001b[1m63/63\u001b[0m \u001b[32m━━━━━━━━━━━━━━━━━━━━\u001b[0m\u001b[37m\u001b[0m \u001b[1m1s\u001b[0m 6ms/step - accuracy: 0.7874 - loss: 2.1595 - val_accuracy: 0.8500 - val_loss: 2.1320\n",
            "Epoch 20/25\n",
            "\u001b[1m63/63\u001b[0m \u001b[32m━━━━━━━━━━━━━━━━━━━━\u001b[0m\u001b[37m\u001b[0m \u001b[1m0s\u001b[0m 6ms/step - accuracy: 0.8044 - loss: 2.1349 - val_accuracy: 0.8525 - val_loss: 2.1051\n",
            "Epoch 21/25\n",
            "\u001b[1m63/63\u001b[0m \u001b[32m━━━━━━━━━━━━━━━━━━━━\u001b[0m\u001b[37m\u001b[0m \u001b[1m0s\u001b[0m 6ms/step - accuracy: 0.8216 - loss: 2.0912 - val_accuracy: 0.8125 - val_loss: 2.0973\n",
            "Epoch 22/25\n",
            "\u001b[1m63/63\u001b[0m \u001b[32m━━━━━━━━━━━━━━━━━━━━\u001b[0m\u001b[37m\u001b[0m \u001b[1m1s\u001b[0m 6ms/step - accuracy: 0.8199 - loss: 2.0764 - val_accuracy: 0.8550 - val_loss: 2.0611\n",
            "Epoch 23/25\n",
            "\u001b[1m63/63\u001b[0m \u001b[32m━━━━━━━━━━━━━━━━━━━━\u001b[0m\u001b[37m\u001b[0m \u001b[1m0s\u001b[0m 6ms/step - accuracy: 0.8457 - loss: 2.0309 - val_accuracy: 0.8525 - val_loss: 2.0366\n",
            "Epoch 24/25\n",
            "\u001b[1m63/63\u001b[0m \u001b[32m━━━━━━━━━━━━━━━━━━━━\u001b[0m\u001b[37m\u001b[0m \u001b[1m0s\u001b[0m 7ms/step - accuracy: 0.8600 - loss: 2.0079 - val_accuracy: 0.8625 - val_loss: 2.0040\n",
            "Epoch 25/25\n",
            "\u001b[1m63/63\u001b[0m \u001b[32m━━━━━━━━━━━━━━━━━━━━\u001b[0m\u001b[37m\u001b[0m \u001b[1m1s\u001b[0m 6ms/step - accuracy: 0.8514 - loss: 1.9979 - val_accuracy: 0.8575 - val_loss: 1.9826\n"
          ]
        }
      ]
    },
    {
      "cell_type": "markdown",
      "metadata": {
        "id": "xlYo20_lttEA"
      },
      "source": [
        "###Scoring\n",
        "\n",
        "Now, let's evaluate our models! To get the scores, you can use:\n",
        "```\n",
        "score = model.evaluate(X_test, y_test)\n",
        "```\n",
        "\n",
        "Then `score[0]` will be test loss and `score[1]` will be test accuracy.\n",
        "\n"
      ]
    },
    {
      "cell_type": "code",
      "metadata": {
        "id": "tywOuLnPucIC",
        "colab": {
          "base_uri": "https://localhost:8080/"
        },
        "outputId": "eae3cf80-1663-411c-b15d-a3a3e9285154"
      },
      "source": [
        "#YOUR CODE HERE to score your models\n",
        "cnn_score = cnn.evaluate(X_test, y_test)\n",
        "dense_score = dense.evaluate(X_test, y_test)\n",
        "print (cnn_score)\n",
        "print (dense_score)"
      ],
      "execution_count": 15,
      "outputs": [
        {
          "output_type": "stream",
          "name": "stdout",
          "text": [
            "\u001b[1m13/13\u001b[0m \u001b[32m━━━━━━━━━━━━━━━━━━━━\u001b[0m\u001b[37m\u001b[0m \u001b[1m0s\u001b[0m 5ms/step - accuracy: 0.8485 - loss: 1.9907 \n",
            "\u001b[1m13/13\u001b[0m \u001b[32m━━━━━━━━━━━━━━━━━━━━\u001b[0m\u001b[37m\u001b[0m \u001b[1m0s\u001b[0m 4ms/step - accuracy: 0.7516 - loss: 0.4657 \n",
            "[1.982628583908081, 0.8575000166893005]\n",
            "[0.4485665261745453, 0.7724999785423279]\n"
          ]
        }
      ]
    },
    {
      "cell_type": "markdown",
      "metadata": {
        "id": "jakb5j_Hux7W"
      },
      "source": [
        "**Which model did better? Any surprises?**"
      ]
    },
    {
      "cell_type": "markdown",
      "metadata": {
        "id": "ozaEE78ktkyw"
      },
      "source": [
        "### Plotting\n",
        "\n",
        "A great way to understand our model better is to plot the training and test accuracy over time with `plot_acc(model_history)`.\n",
        "\n",
        "**What do you observe of the training and test accuracy over the training epochs?**\n",
        "\n",
        "Discuss this with your group and your instructor! What problems are we experiencing? How can we fix them?"
      ]
    },
    {
      "cell_type": "markdown",
      "source": [
        "## Instructor Solution\n",
        "<details><summary>click to reveal!</summary>\n",
        "\n",
        "To address the prompt, we should analyze the training and test accuracy over time and discuss any observations, problems, and potential solutions.\n",
        "\n",
        "1. **Observe the Training and Test Accuracy**:\n",
        "   - Look for trends such as:\n",
        "     - Increasing or decreasing accuracy over time.\n",
        "     - Any significant gaps between training and test accuracy.\n",
        "\n",
        "2. **Identify Problems**:\n",
        "   - **Overfitting**: If the training accuracy is much higher than the test accuracy, the model might be overfitting. Overfitting occurs when the model learns the training data too well, including its noise and outliers, which negatively impacts its performance on new data.\n",
        "   - **Underfitting**: If both training and test accuracy are low, the model might be underfitting. Underfitting occurs when the model is too simple to capture the underlying patterns in the data.\n",
        "   - **Training Stability**: Check if the accuracy curves are smooth or if there are significant fluctuations, which might indicate instability during training."
      ],
      "metadata": {
        "id": "1hEucD1BM4Dk"
      }
    },
    {
      "cell_type": "code",
      "metadata": {
        "id": "_nBfrnjIXzdp",
        "colab": {
          "base_uri": "https://localhost:8080/",
          "height": 893
        },
        "outputId": "7da1a1ba-6b70-41e9-adb3-1276409680db"
      },
      "source": [
        "#YOUR CODE HERE\n",
        "plot_acc(dense_history)\n",
        "plot_acc(cnn_history)"
      ],
      "execution_count": 16,
      "outputs": [
        {
          "output_type": "display_data",
          "data": {
            "text/plain": [
              "<Figure size 640x480 with 1 Axes>"
            ],
            "image/png": "[encoded data removed]"
          },
          "metadata": {}
        },
        {
          "output_type": "display_data",
          "data": {
            "text/plain": [
              "<Figure size 640x480 with 1 Axes>"
            ],
            "image/png": "[encoded data removed]"
          },
          "metadata": {}
        }
      ]
    },
    {
      "cell_type": "markdown",
      "source": [
        "## Instructor Solution\n",
        "<details><summary>click to reveal!</summary>\n",
        "\n",
        "1. **Was the best epoch necessarily the last epoch?**\n",
        "   - No, the best epoch was not necessarily the last epoch. In the plots, the best epoch is marked with a green dashed line, indicating the epoch with the highest validation accuracy. It is evident that this point does not coincide with the last epoch in either of the plots.\n",
        "\n",
        "2. **When does your model overfit? How could we fix it?**\n",
        "   - **Identifying Overfitting**:\n",
        "     - Overfitting occurs when the training accuracy continues to increase while the validation accuracy plateaus or decreases. This is visible in both plots, where after a certain number of epochs (around epoch 30), the training accuracy continues to improve, but the validation accuracy starts to fluctuate and does not show consistent improvement.\n",
        "   - **Fixing Overfitting**:\n",
        "     - **Early Stopping**: Use early stopping to halt the training process once the validation accuracy stops improving. This prevents the model from learning noise and overfitting the training data.\n",
        "     - **Data Augmentation**: Augment the training data to increase its diversity, helping the model generalize better to unseen data.\n",
        "     - **Simpler Model**: Reduce the model's complexity by decreasing the number of layers or the number of neurons per layer."
      ],
      "metadata": {
        "id": "sFKq0Zx3NuNS"
      }
    },
    {
      "cell_type": "markdown",
      "metadata": {
        "id": "3Bx5nyzE36EQ"
      },
      "source": [
        "So far, we've used models that were built from 'scratch'. Unfortunately, our training data is small relative to the amount of data available in the real world, so just training on our dataset is going to be inherently limited.\n",
        "\n",
        "Luckily, there are **expert models**, or state-of-the-art models that have been trained by the world's top researchers! While these expert models haven't trained on our training data, they have trained extensively on larger datasets. We can input our data and reasonably expect that they will pick up our task fairly quickly.\n",
        "\n",
        "In deep learning, the idea of using a model trained on another task as a starting point for your model is known as **transfer learning**."
      ]
    },
    {
      "cell_type": "markdown",
      "metadata": {
        "id": "DChmzlt3ARPy"
      },
      "source": [
        "### VGG 16"
      ]
    },
    {
      "cell_type": "markdown",
      "metadata": {
        "id": "lFtHOYI2AdSs"
      },
      "source": [
        "For our transfer learning, we're going to use 'experts' built upon the famous 'ImageNet' classification problem.\n",
        "\n",
        "In ImageNet, participants were challenged to build machine learning models that could distinguish 14 million images' categories, where there were > 20,000 categories available.\n",
        "\n",
        "Below, we see examples of 3 different categories.\n",
        "\n",
        "![](https://storage.googleapis.com/inspirit-ai-data-bucket-1/Data/AI%20Scholars/Sessions%206%20-%2010%20(Projects)/ImageNet.jpg)\n",
        "\n"
      ]
    },
    {
      "cell_type": "markdown",
      "metadata": {
        "id": "J-E_AiG-CFj0"
      },
      "source": [
        "One of the experts we can use is VGG16. VGG16 is a specific convolutional neural network that was allowed to study the 14 million images 74 times. *(Read more about VGG16 [here!](https://neurohive.io/en/popular-networks/vgg16/))*\n",
        "\n",
        "After training, VGG16 was able to guess something close to the real label (top-5 accuracy) better than a human can."
      ]
    },
    {
      "cell_type": "markdown",
      "metadata": {
        "id": "IvkajtdHAbzL"
      },
      "source": [
        "![](https://cdn-images-1.medium.com/max/1600/0*V1muWIDnPVwZUuEv.png)"
      ]
    },
    {
      "cell_type": "markdown",
      "metadata": {
        "id": "Vwj8o5X3D325"
      },
      "source": [
        "We're going to take an expert model like VGG16 and let it train on OUR x-rays. Hopefully, its experience with those 14 million images will help it differentiate between healthy and pneumonia-affected x-rays."
      ]
    },
    {
      "cell_type": "markdown",
      "metadata": {
        "id": "uz_mVsECHvro"
      },
      "source": [
        "Let's tap an expert model to help us out with our pneumonia prediction!\n",
        "\n",
        "We provide a wrapper that lets you 'call' up and employ expert models. You can call it like...\n",
        "\n",
        "```\n",
        "transfer = TransferClassifier(name = 'VGG16')\n",
        "```\n",
        "\n",
        "The experts we have on hand are:\n",
        "* `VGG16`\n",
        "* `VGG19`\n",
        "* `ResNet50`\n",
        "* `DenseNet121`\n",
        "\n",
        "There are default parameters to model.fit you can call:\n",
        "\n",
        "`model.fit(X_train, y_train, epochs = N, validation_data = (X_test, y_test), shuffle = True, callbacks = [monitor])`\n",
        "\n",
        "The `shuffle` parameter is important for shuffling the training data before each epoch. The `[monitor]` callback is used to get a view on internal states and statistics of the model during training. Do not change these parameters!\n",
        "\n",
        "**Please experiment with using these experts! Remember to fit and score your model, and to take a look at the training history.**\n",
        "\n",
        "How many epochs do you need now?\n"
      ]
    },
    {
      "cell_type": "code",
      "metadata": {
        "id": "0VB79BCx7tvg",
        "colab": {
          "base_uri": "https://localhost:8080/",
          "height": 812
        },
        "outputId": "171672da-ae31-4c59-e7a4-692a22035ce7"
      },
      "source": [
        "### YOUR CODE HERE\n",
        "X_train, y_train = get_train_data()\n",
        "X_test, y_test = get_test_data()\n",
        "transfer = TransferClassifier(name = 'DenseNet121')\n",
        "transfer.fit(X_train, y_train, epochs = 10, validation_data = (X_test, y_test), shuffle = True, callbacks = [monitor])\n",
        "plot_acc(transfer.history)\n",
        "### END CODE"
      ],
      "execution_count": 18,
      "outputs": [
        {
          "output_type": "stream",
          "name": "stdout",
          "text": [
            "Epoch 1/10\n",
            "\u001b[1m63/63\u001b[0m \u001b[32m━━━━━━━━━━━━━━━━━━━━\u001b[0m\u001b[37m\u001b[0m \u001b[1m59s\u001b[0m 560ms/step - accuracy: 0.6432 - loss: 0.9385 - val_accuracy: 0.7875 - val_loss: 0.4517\n",
            "Epoch 2/10\n",
            "\u001b[1m63/63\u001b[0m \u001b[32m━━━━━━━━━━━━━━━━━━━━\u001b[0m\u001b[37m\u001b[0m \u001b[1m37s\u001b[0m 24ms/step - accuracy: 0.8587 - loss: 0.3343 - val_accuracy: 0.8000 - val_loss: 0.4403\n",
            "Epoch 3/10\n",
            "\u001b[1m63/63\u001b[0m \u001b[32m━━━━━━━━━━━━━━━━━━━━\u001b[0m\u001b[37m\u001b[0m \u001b[1m2s\u001b[0m 19ms/step - accuracy: 0.8846 - loss: 0.2670 - val_accuracy: 0.8125 - val_loss: 0.4315\n",
            "Epoch 4/10\n",
            "\u001b[1m63/63\u001b[0m \u001b[32m━━━━━━━━━━━━━━━━━━━━\u001b[0m\u001b[37m\u001b[0m \u001b[1m1s\u001b[0m 17ms/step - accuracy: 0.8769 - loss: 0.2803 - val_accuracy: 0.8325 - val_loss: 0.4006\n",
            "Epoch 5/10\n",
            "\u001b[1m63/63\u001b[0m \u001b[32m━━━━━━━━━━━━━━━━━━━━\u001b[0m\u001b[37m\u001b[0m \u001b[1m1s\u001b[0m 17ms/step - accuracy: 0.9128 - loss: 0.2180 - val_accuracy: 0.8275 - val_loss: 0.4274\n",
            "Epoch 6/10\n",
            "\u001b[1m63/63\u001b[0m \u001b[32m━━━━━━━━━━━━━━━━━━━━\u001b[0m\u001b[37m\u001b[0m \u001b[1m1s\u001b[0m 17ms/step - accuracy: 0.9169 - loss: 0.2158 - val_accuracy: 0.8075 - val_loss: 0.4493\n",
            "Epoch 7/10\n",
            "\u001b[1m63/63\u001b[0m \u001b[32m━━━━━━━━━━━━━━━━━━━━\u001b[0m\u001b[37m\u001b[0m \u001b[1m1s\u001b[0m 20ms/step - accuracy: 0.9045 - loss: 0.2231 - val_accuracy: 0.8125 - val_loss: 0.4492\n",
            "Epoch 8/10\n",
            "\u001b[1m63/63\u001b[0m \u001b[32m━━━━━━━━━━━━━━━━━━━━\u001b[0m\u001b[37m\u001b[0m \u001b[1m1s\u001b[0m 22ms/step - accuracy: 0.9017 - loss: 0.2333 - val_accuracy: 0.8175 - val_loss: 0.4360\n",
            "Epoch 9/10\n",
            "\u001b[1m63/63\u001b[0m \u001b[32m━━━━━━━━━━━━━━━━━━━━\u001b[0m\u001b[37m\u001b[0m \u001b[1m1s\u001b[0m 19ms/step - accuracy: 0.9164 - loss: 0.2019 - val_accuracy: 0.8200 - val_loss: 0.4269\n",
            "Epoch 10/10\n",
            "\u001b[1m63/63\u001b[0m \u001b[32m━━━━━━━━━━━━━━━━━━━━\u001b[0m\u001b[37m\u001b[0m \u001b[1m1s\u001b[0m 17ms/step - accuracy: 0.9249 - loss: 0.1801 - val_accuracy: 0.7950 - val_loss: 0.4753\n"
          ]
        },
        {
          "output_type": "display_data",
          "data": {
            "text/plain": [
              "<Figure size 640x480 with 1 Axes>"
            ],
            "image/png": "[encoded data removed]"
          },
          "metadata": {}
        }
      ]
    },
    {
      "cell_type": "markdown",
      "metadata": {
        "id": "hBbSwkgVj7gS"
      },
      "source": [
        "Set your best model to the one you have trained (e.g., the transfer learning model)."
      ]
    },
    {
      "cell_type": "code",
      "metadata": {
        "id": "TmjOJCGDjsMk"
      },
      "source": [
        "best_model = cnn ## Change this if another model did better!"
      ],
      "execution_count": 19,
      "outputs": []
    },
    {
      "cell_type": "markdown",
      "metadata": {
        "id": "UBhDGS02VGHa"
      },
      "source": [
        "As we learned last week, total accuracy does not reflect all that we want to know about a model's performance. It's just one metric out of many possible metrics for evaluating models.\n",
        "\n",
        "In the case of pneumonia prediction, we may be more interested in other quantities, such as 'how accurate were we on the pneumonia category?' or 'how accurate were we on the healthy category?' or 'how much of pneumonia were confused for healthy?' or vice versa.\n",
        "\n"
      ]
    },
    {
      "cell_type": "markdown",
      "metadata": {
        "id": "T_GjNUEBMSke"
      },
      "source": [
        "Our metrics for classification can be described in terms of a 'confusion matrix', shown below.\n",
        "\n",
        "![Confusion Matrix](https://cdn-images-1.medium.com/max/1600/1*Z54JgbS4DUwWSknhDCvNTQ.png)\n",
        "\n",
        "In a confusion matrix, we think in terms of 'actual' and 'predicted values'. If we take Pneumonia = 1/Positive and Normal = 0/Negative, then **what do TP, FP, TN, and FN mean?**\n",
        "\n",
        "\n"
      ]
    },
    {
      "cell_type": "markdown",
      "metadata": {
        "id": "BL0ns-b9GBym"
      },
      "source": [
        "The `sklearn` package makes calculating confusion matrices very quick! Its `metrics` submodule actually comes with a `confusion_matrix` tool. Let's start by grabbing that."
      ]
    },
    {
      "cell_type": "code",
      "metadata": {
        "id": "f2E5299cNEcp"
      },
      "source": [
        "from sklearn.metrics import accuracy_score, confusion_matrix"
      ],
      "execution_count": 20,
      "outputs": []
    },
    {
      "cell_type": "markdown",
      "metadata": {
        "id": "bvFawPv1NIyy"
      },
      "source": [
        "To use `confusion_matrix`, we need:\n",
        "* `labels`: the labels of the data (1 - PNEUMONIA or 0 - NORMAL)\n",
        "* `predictions`: what our model thinks the labels are\n",
        "\n",
        "To get `predictions`, you'll want to use ```(best_model.predict(X_test) > 0.5).astype(\"int32\")```.\n",
        "\n",
        "Please get the `predictions`, and use `accuracy_score` to print the overall test accuracy:"
      ]
    },
    {
      "cell_type": "code",
      "metadata": {
        "id": "Ke5_OhU1wlpU",
        "colab": {
          "base_uri": "https://localhost:8080/"
        },
        "outputId": "8143dc95-10e5-4277-bb4d-e735352071ec"
      },
      "source": [
        "#YOUR CODE HERE\n",
        "y_pred = (best_model.predict(X_test) > 0.5).astype(\"int32\")\n",
        "print('Accuracy: ', accuracy_score(y_test, y_pred)*100.0)"
      ],
      "execution_count": 21,
      "outputs": [
        {
          "output_type": "stream",
          "name": "stdout",
          "text": [
            "\u001b[1m13/13\u001b[0m \u001b[32m━━━━━━━━━━━━━━━━━━━━\u001b[0m\u001b[37m\u001b[0m \u001b[1m1s\u001b[0m 44ms/step\n",
            "Accuracy:  85.75\n"
          ]
        }
      ]
    },
    {
      "cell_type": "markdown",
      "metadata": {
        "id": "XcFGwTMDkCAp"
      },
      "source": [
        "Now let's get our confusion matrix, and split it out into true positive, true negative, false positive, and false negative!"
      ]
    },
    {
      "cell_type": "code",
      "metadata": {
        "id": "O7omQvlbkSTn",
        "colab": {
          "base_uri": "https://localhost:8080/"
        },
        "outputId": "cc1e8720-beaf-4e39-9c57-3c0a8a4fc5ca"
      },
      "source": [
        "confusion = confusion_matrix(y_test, y_pred)\n",
        "print(confusion)"
      ],
      "execution_count": 22,
      "outputs": [
        {
          "output_type": "stream",
          "name": "stdout",
          "text": [
            "[[167  33]\n",
            " [ 24 176]]\n"
          ]
        }
      ]
    },
    {
      "cell_type": "markdown",
      "metadata": {
        "id": "8zQjmPA4w8wJ"
      },
      "source": [
        "**How do you interpret each number?**"
      ]
    },
    {
      "cell_type": "code",
      "metadata": {
        "id": "K17HWY9Iw3gA",
        "colab": {
          "base_uri": "https://localhost:8080/"
        },
        "outputId": "24c98ecf-ddc2-42bb-a28e-ac86ff871cc5"
      },
      "source": [
        "tp  = confusion[1][1]\n",
        "tn  = confusion[0][0]\n",
        "fp = confusion[0][1]\n",
        "fn = confusion[1][0]\n",
        "\n",
        "print('True positive: %d'%tp)\n",
        "print('True negative: %d'%tn)\n",
        "print('False positive: %d'%fp)\n",
        "print('False negative: %d'%fn)"
      ],
      "execution_count": 23,
      "outputs": [
        {
          "output_type": "stream",
          "name": "stdout",
          "text": [
            "True positive: 176\n",
            "True negative: 167\n",
            "False positive: 33\n",
            "False negative: 24\n"
          ]
        }
      ]
    },
    {
      "cell_type": "markdown",
      "metadata": {
        "id": "eKlghw6_krXL"
      },
      "source": [
        "We can visualize the confusion matrix with seaborn to make it easier for our eyes..."
      ]
    },
    {
      "cell_type": "code",
      "metadata": {
        "id": "Q0Cp60eokseD"
      },
      "source": [
        "# grab our plotting package\n",
        "import seaborn as sns\n",
        "import matplotlib.pyplot as plt"
      ],
      "execution_count": 24,
      "outputs": []
    },
    {
      "cell_type": "code",
      "metadata": {
        "id": "l_Jwv2-OktLb",
        "colab": {
          "base_uri": "https://localhost:8080/",
          "height": 449
        },
        "outputId": "d676897a-91ba-42fa-ca88-573fa552855f"
      },
      "source": [
        "sns.heatmap(confusion, annot = True, fmt = 'd', cbar_kws={'label':'count'});\n",
        "plt.ylabel('Actual');\n",
        "plt.xlabel('Predicted');"
      ],
      "execution_count": 25,
      "outputs": [
        {
          "output_type": "display_data",
          "data": {
            "text/plain": [
              "<Figure size 640x480 with 2 Axes>"
            ],
            "image/png": "[encoded data removed]"
          },
          "metadata": {}
        }
      ]
    },
    {
      "cell_type": "markdown",
      "metadata": {
        "id": "14rKID6MOo4N"
      },
      "source": [
        "![](https://storage.googleapis.com/kaggle-competitions/kaggle/10338/logos/header.png)"
      ]
    }
  ]
}