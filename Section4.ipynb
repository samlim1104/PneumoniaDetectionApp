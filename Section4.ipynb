{
  "cells": [
    {
      "cell_type": "markdown",
      "metadata": {
        "id": "view-in-github",
        "colab_type": "text"
      },
      "source": [
        "<a href=\"https://colab.research.google.com/github/samlim1104/PneumoniaDetectionApp/blob/main/Section4.ipynb\" target=\"_parent\"><img src=\"https://colab.research.google.com/assets/colab-badge.svg\" alt=\"Open In Colab\"/></a>"
      ]
    },
    {
      "cell_type": "markdown",
      "source": [
        "## **Getting Started with Streamlit**\n",
        "<img src=\"https://images.datacamp.com/image/upload/v1640050215/image27_frqkzv.png\" alt=\"Streamlit\" width=\"250\" height=\"150\">\n",
        "\n",
        "<p><a href=\"https://docs.streamlit.io\">Streamlit</a> is a Python library that contains many useful functions we can use to quickly build websites for data apps!\n",
        "\n",
        "Unlike traditional web development which often requires an understanding of multiple languages like HTML, CSS, and JavaScript, Streamlit simplifies this process by offering a Python-centric approach. With just a few lines of code, you can quickly build and format a website!</p>"
      ],
      "metadata": {
        "id": "M9k9uYhsrpAC"
      }
    },
    {
      "cell_type": "code",
      "execution_count": 1,
      "metadata": {
        "id": "rsV9pBY28A7M",
        "colab": {
          "base_uri": "https://localhost:8080/"
        },
        "outputId": "6114f8b2-dbaf-43d1-a226-083a10443b28"
      },
      "outputs": [
        {
          "output_type": "stream",
          "name": "stdout",
          "text": [
            "./metadata.csv      100%[===================>]  39.56K  --.-KB/s    in 0.001s  \n",
            "./image_data.npy    100%[===================>] 131.25M   171MB/s    in 0.8s    \n",
            "metadata.csv.1      100%[===================>]  39.56K  --.-KB/s    in 0.003s  \n",
            "image_data.npy.1    100%[===================>] 131.25M   218MB/s    in 0.6s    \n"
          ]
        }
      ],
      "source": [
        "#@title Run this to set up Streamlit!\n",
        "\n",
        "\n",
        "# -------------------------- #\n",
        "# INSTALLATION\n",
        "# -------------------------- #\n",
        "!pip -q install pyngrok > /dev/null\n",
        "!pip -q install streamlit > /dev/null\n",
        "!pip install -q albumentations\n",
        "\n",
        "# -------------------------- #\n",
        "# IMPORTS\n",
        "# -------------------------- #\n",
        "import tensorflow as tf\n",
        "from PIL import Image\n",
        "\n",
        "import os, random\n",
        "import numpy as np\n",
        "import pandas as pd\n",
        "import matplotlib.pyplot as plt\n",
        "import seaborn as sns\n",
        "\n",
        "from sklearn.metrics import accuracy_score, confusion_matrix\n",
        "\n",
        "import tensorflow.keras as keras\n",
        "from keras.models import Sequential\n",
        "from keras.layers import (Activation, MaxPooling2D, Dropout, Flatten, Reshape,\n",
        "                          Dense, Conv2D, GlobalAveragePooling2D, Input)\n",
        "from keras.regularizers import l2\n",
        "from keras.callbacks import ModelCheckpoint\n",
        "from keras.applications import VGG16, VGG19, DenseNet121\n",
        "from tensorflow.keras.applications import ResNet50\n",
        "\n",
        "import albumentations as A\n",
        "\n",
        "# -------------------------- #\n",
        "# AUGMENTATION FUNCTIONS\n",
        "# -------------------------- #\n",
        "def apply_aug(data, transform):\n",
        "    if len(data.shape) == 3:\n",
        "        return transform(image=data)['image']\n",
        "    return np.stack([transform(image=img)['image'] for img in data])\n",
        "\n",
        "def rotate(data, angle):\n",
        "    return apply_aug(data, A.Rotate(limit=angle, p=1))\n",
        "\n",
        "def shear(data, shear_val):\n",
        "    return apply_aug(data, A.Affine(shear={\"x\": shear_val, \"y\": 0}, p=1))\n",
        "\n",
        "def scale(data, scale_val):\n",
        "    return apply_aug(data, A.Affine(scale=scale_val, p=1))\n",
        "\n",
        "def flip_left_right(data, prob): return apply_aug(data, A.HorizontalFlip(p=prob))\n",
        "def flip_up_down(data, prob): return apply_aug(data, A.VerticalFlip(p=prob))\n",
        "\n",
        "def remove_color(data, channel):\n",
        "    new_data = data.copy()\n",
        "    if len(data.shape) == 3:\n",
        "        new_data[:, :, channel] = 0\n",
        "    elif len(data.shape) == 4:\n",
        "        new_data[:, :, :, channel] = 0\n",
        "    return new_data\n",
        "\n",
        "# -------------------------- #\n",
        "# DATA LOADING & PROCESSING\n",
        "# -------------------------- #\n",
        "class pkg:\n",
        "    @staticmethod\n",
        "    def get_metadata(metadata_path, splits=['train', 'test']):\n",
        "        return pd.read_csv(metadata_path).query(\"split in @splits\")\n",
        "\n",
        "    @staticmethod\n",
        "    def get_data_split(split_name, flatten, all_data, metadata, shape):\n",
        "        df = metadata[metadata['split'] == split_name]\n",
        "        data = all_data[df['index'].values]\n",
        "        labels = df['class'].values\n",
        "        return data.reshape([-1, np.prod(shape)]) if flatten else data, labels\n",
        "\n",
        "    @staticmethod\n",
        "    def get_field_data(flatten, all_data, metadata, shape):\n",
        "        data, labels = pkg.get_data_split('field', flatten, all_data, metadata, shape)\n",
        "        data[:, :, :, 1] = data[:, :, :, 0]\n",
        "        data[:, :, :, 2] = data[:, :, :, 0]\n",
        "        rand = random.uniform(-1, 1)\n",
        "        for i in range(len(data)):\n",
        "            data[i] = rotate(data[i], rand * 40) if abs(rand) < 0.5 else shear(data[i], rand * 40)\n",
        "        return data, labels\n",
        "\n",
        "# -------------------------- #\n",
        "# HELPER FUNCTIONS\n",
        "# -------------------------- #\n",
        "class helpers:\n",
        "    @staticmethod\n",
        "    def plot_one_image(data, labels=[], index=None, shape=[64, 64, 3]):\n",
        "        if data.ndim == 1:\n",
        "            data = data.reshape(shape)\n",
        "        elif data.ndim == 2:\n",
        "            data = data.reshape([-1] + shape)\n",
        "\n",
        "        img = data if data.ndim == 3 else data[index]\n",
        "        label = labels if data.ndim == 3 else labels[index]\n",
        "        print(f\"Label: {label}\")\n",
        "        plt.imshow(img)\n",
        "        plt.show()\n",
        "\n",
        "    @staticmethod\n",
        "    def plot_acc(history, ax=None, xlabel='Epoch #'):\n",
        "        history = pd.DataFrame(history.history)\n",
        "        history['epoch'] = history.index\n",
        "        best_epoch = history['val_accuracy'].idxmax()\n",
        "\n",
        "        if ax is None:\n",
        "            _, ax = plt.subplots()\n",
        "        sns.lineplot(data=history, x='epoch', y='accuracy', label='Training', ax=ax)\n",
        "        sns.lineplot(data=history, x='epoch', y='val_accuracy', label='Validation', ax=ax)\n",
        "        ax.axhline(0.5, ls='--', color='red', label='Chance')\n",
        "        ax.axvline(best_epoch, ls='--', color='green', label='Best Epoch')\n",
        "        ax.set_xlabel(xlabel)\n",
        "        ax.set_ylabel('Accuracy')\n",
        "        ax.legend()\n",
        "        plt.show()\n",
        "\n",
        "    @staticmethod\n",
        "    def combine_data(data_list, label_list):\n",
        "        return np.concatenate(data_list, axis=0), np.concatenate(label_list, axis=0)\n",
        "\n",
        "# -------------------------- #\n",
        "# MODEL BUILDERS\n",
        "# -------------------------- #\n",
        "class models:\n",
        "    @staticmethod\n",
        "    def DenseClassifier(hidden_layers, params):\n",
        "        model = Sequential([Input(params['input_shape']), Flatten(), Dropout(0.5)])\n",
        "        for size in hidden_layers:\n",
        "            model.add(Dense(size, activation='relu'))\n",
        "            model.add(Dropout(0.5))\n",
        "        model.add(Dense(params['output_neurons'], activation=params['output_activation']))\n",
        "        model.compile(loss=params['loss'],\n",
        "                      optimizer=keras.optimizers.SGD(1e-4, momentum=0.95),\n",
        "                      metrics=['accuracy'])\n",
        "        return model\n",
        "\n",
        "    @staticmethod\n",
        "    def CNNClassifier(n_layers, params):\n",
        "        model = Sequential([Input(params['input_shape']),\n",
        "                            Conv2D(32, 3, padding='same', kernel_regularizer=l2(0.01)), Activation('relu'),\n",
        "                            MaxPooling2D(2)])\n",
        "        for _ in range(n_layers - 1):\n",
        "            model.add(Conv2D(64, 3, padding='same', kernel_regularizer=l2(0.01)))\n",
        "            model.add(Activation('relu'))\n",
        "            model.add(MaxPooling2D(2))\n",
        "        model.add(Flatten())\n",
        "        model.add(Dense(128, activation='relu'))\n",
        "        model.add(Dropout(0.5))\n",
        "        model.add(Dense(64, activation='relu', kernel_regularizer=l2(0.01)))\n",
        "        model.add(Dropout(0.5))\n",
        "        model.add(Dense(params['output_neurons'], activation=params['output_activation']))\n",
        "        model.compile(loss=params['loss'],\n",
        "                      optimizer=keras.optimizers.SGD(learning_rate=1e-2, momentum=0.9),\n",
        "                      metrics=['accuracy'])\n",
        "        return model\n",
        "\n",
        "    @staticmethod\n",
        "    def TransferClassifier(name, params, trainable=False):\n",
        "        base_model = {'VGG16': VGG16, 'VGG19': VGG19,\n",
        "                      'ResNet50': ResNet50, 'DenseNet121': DenseNet121}[name](\n",
        "            include_top=False, weights='imagenet', input_shape=params['input_shape']\n",
        "        )\n",
        "        for layer in base_model.layers:\n",
        "            layer.trainable = trainable\n",
        "        model = Sequential([\n",
        "            base_model,\n",
        "            GlobalAveragePooling2D(),\n",
        "            Dense(128, activation='relu'),\n",
        "            Dense(64, activation='relu'),\n",
        "            Dense(params['output_neurons'], activation=params['output_activation'])\n",
        "        ])\n",
        "        model.compile(loss=params['loss'],\n",
        "                      optimizer=keras.optimizers.SGD(1e-4, momentum=0.9),\n",
        "                      metrics=['accuracy'])\n",
        "        return model\n",
        "\n",
        "# -------------------------- #\n",
        "# CONFIGURATION\n",
        "# -------------------------- #\n",
        "image_shape = (64, 64, 3)\n",
        "metadata_path = './metadata.csv'\n",
        "image_data_path = './image_data.npy'\n",
        "metadata_url = \"https://storage.googleapis.com/inspirit-ai-data-bucket-1/Data/AI%20Scholars/Sessions%206%20-%2010%20(Projects)/Project%20-%20(Healthcare%20A)%20Pneumonia/metadata.csv\"\n",
        "image_url = 'https://storage.googleapis.com/inspirit-ai-data-bucket-1/Data/AI%20Scholars/Sessions%206%20-%2010%20(Projects)/Project%20-%20(Healthcare%20A)%20Pneumonia/image_data.npy'\n",
        "\n",
        "!wget -q --show-progress \"$metadata_url\" -O $metadata_path\n",
        "!wget -q --show-progress \"$image_url\" -O $image_data_path\n",
        "\n",
        "_all_data = np.load(image_data_path)\n",
        "_metadata = pkg.get_metadata(metadata_path, ['train', 'test', 'field'])\n",
        "\n",
        "# -------------------------- #\n",
        "# SHORTCUTS\n",
        "# -------------------------- #\n",
        "get_metadata = lambda: pkg.get_metadata(metadata_path, ['train', 'test'])\n",
        "get_train_data = lambda flatten=False: pkg.get_data_split('train', flatten, _all_data, _metadata, image_shape)\n",
        "get_test_data = lambda flatten=False: pkg.get_data_split('test', flatten, _all_data, _metadata, image_shape)\n",
        "get_field_data = lambda flatten=False: pkg.get_field_data(flatten, _all_data, _metadata, image_shape)\n",
        "\n",
        "plot_one_image = lambda data, labels=[], index=None: helpers.plot_one_image(data, labels, index, image_shape)\n",
        "plot_acc = helpers.plot_acc\n",
        "combine_data = helpers.combine_data\n",
        "\n",
        "DenseClassifier = lambda h: models.DenseClassifier(h, nn_params)\n",
        "CNNClassifier = lambda n: models.CNNClassifier(n, nn_params)\n",
        "TransferClassifier = lambda name: models.TransferClassifier(name, nn_params)\n",
        "\n",
        "monitor = ModelCheckpoint('./model.keras', monitor='val_accuracy', save_best_only=True)\n",
        "\n",
        "# -------------------------- #\n",
        "# MODEL PARAMS\n",
        "# -------------------------- #\n",
        "nn_params = {\n",
        "    'input_shape': image_shape,\n",
        "    'output_neurons': 1,\n",
        "    'loss': 'binary_crossentropy',\n",
        "    'output_activation': 'sigmoid'\n",
        "}\n",
        "\n",
        "###\n",
        "!wget -q --show-progress \"https://storage.googleapis.com/inspirit-ai-data-bucket-1/Data/AI%20Scholars/Sessions%206%20-%2010%20(Projects)/Project%20-%20(Healthcare%20A)%20Pneumonia/metadata.csv\"\n",
        "!wget -q --show-progress \"https://storage.googleapis.com/inspirit-ai-data-bucket-1/Data/AI%20Scholars/Sessions%206%20-%2010%20(Projects)/Project%20-%20(Healthcare%20A)%20Pneumonia/image_data.npy\"\n",
        "\n",
        "\n",
        "### pre-loading all data of interest\n",
        "_all_data = np.load('image_data.npy')\n",
        "_metadata = pkg.get_metadata(metadata_path, ['train','test','field'])\n",
        "\n",
        "### preparing definitions\n",
        "# downloading and loading data\n",
        "get_data_split = pkg.get_data_split\n",
        "get_metadata    = lambda :                 pkg.get_metadata(metadata_path, ['train','test'])\n",
        "get_train_data  = lambda flatten = False : pkg.get_train_data(flatten = flatten, all_data = _all_data, metadata = _metadata, image_shape = image_shape)\n",
        "get_test_data   = lambda flatten = False : pkg.get_test_data(flatten = flatten, all_data = _all_data, metadata = _metadata, image_shape = image_shape)\n",
        "get_field_data  = lambda flatten = False : pkg.get_field_data(flatten = flatten, all_data = _all_data, metadata = _metadata, image_shape = image_shape)\n",
        "\n",
        "# plotting\n",
        "plot_one_image = lambda data, labels = [], index = None: helpers.plot_one_image(data = data, labels = labels, index = index, image_shape = image_shape);\n",
        "plot_acc       = lambda history: helpers.plot_acc(history)\n",
        "\n",
        "# querying and combining data\n",
        "combine_data           = helpers.combine_data;\n",
        "\n",
        "# models with input parameters\n",
        "DenseClassifier     = lambda hidden_layer_sizes: models.DenseClassifier(hidden_layer_sizes = hidden_layer_sizes, nn_params = nn_params);\n",
        "CNNClassifier       = lambda num_hidden_layers: models.CNNClassifier(num_hidden_layers, nn_params = nn_params);\n",
        "TransferClassifier  = lambda name: models.TransferClassifier(name = name, nn_params = nn_params);\n",
        "\n",
        "monitor = ModelCheckpoint('./model.keras', monitor='val_accuracy', verbose=0, save_best_only=True, save_weights_only=False, mode='auto', save_freq='epoch')\n",
        "\n",
        "import os\n",
        "import sys\n",
        "\n",
        "class HiddenPrints:\n",
        "    def __enter__(self):\n",
        "        self._original_stdout = sys.stdout\n",
        "        sys.stdout = open(os.devnull, 'w')\n",
        "\n",
        "    def __exit__(self, exc_type, exc_val, exc_tb):\n",
        "        sys.stdout.close()\n",
        "        sys.stdout = self._original_stdout\n",
        "\n",
        "with HiddenPrints():\n",
        "    # Installing Streamlit & pyngrok\n",
        "    !pip -q install streamlit\n",
        "    !pip -q install pyngrok\n",
        "    from pyngrok import ngrok\n",
        "    import streamlit as st\n",
        "    import pandas as pd\n",
        "    import numpy as np\n",
        "\n",
        "def launch_website():\n",
        "  try:\n",
        "    if ngrok.get_tunnels():\n",
        "      ngrok.kill()\n",
        "    tunnel = ngrok.connect()\n",
        "\n",
        "    print(\"Click this link to try your web app:\")\n",
        "    print(tunnel.public_url)\n",
        "\n",
        "    !streamlit run --server.port 80 app.py >/dev/null # Connect to the URL through Port 80 (>/dev/null hides outputs)\n",
        "\n",
        "  except KeyboardInterrupt:\n",
        "    ngrok.kill()\n",
        "\n"
      ]
    },
    {
      "cell_type": "markdown",
      "source": [
        "Before we start deploying our website, we need to set up a few things. First, we need to set up **tunneling.** Tunneling is a technique that allows you to expose your local server to the public internet. This is especially useful for web applications. We'll use <font color=\"#4169E1\"><b>`pyngrok`</b></font> for this."
      ],
      "metadata": {
        "id": "33Qs8JGovK5C"
      }
    },
    {
      "cell_type": "markdown",
      "metadata": {
        "id": "ET-VFG0OAGaz"
      },
      "source": [
        "<font color=SlateGrey><h4><b>\n",
        "Use [these](https://drive.google.com/file/d/12zwuOuKh91VSHIHS-6S4ADF4HLC2wKJq/view?usp=sharing) instructions to create a ngrok account and get your authtoken!\n",
        "</b></h4></font>\n",
        "\n",
        "<font color=DarkGray><h4><b>\n",
        "Paste your authtoken below next to `!ngrok authtoken`!\n",
        "</b></h4></font>"
      ]
    },
    {
      "cell_type": "code",
      "execution_count": 4,
      "metadata": {
        "id": "GwGo_p7pq6rG",
        "colab": {
          "base_uri": "https://localhost:8080/"
        },
        "outputId": "962ed18c-4602-4816-d951-cf56fe4b5322"
      },
      "outputs": [
        {
          "output_type": "stream",
          "name": "stdout",
          "text": [
            "Authtoken saved to configuration file: /root/.config/ngrok/ngrok.yml\n"
          ]
        }
      ],
      "source": [
        "!ngrok authtoken 2YSUGt0YIbAiQhV45Zf0xNqpug1_7ciMAiu7AtqybDZvGwd7Z"
      ]
    },
    {
      "cell_type": "markdown",
      "source": [
        "This authentication token will configure Streamlit to push our local site to the web through ngrok!"
      ],
      "metadata": {
        "id": "tP79rTQMwB-D"
      }
    },
    {
      "cell_type": "markdown",
      "source": [
        "## **Part 2. Connecting Our Model**\n",
        "\n",
        "Since the focus of this session is deployment we'll skip over training the model and just load one that we've already trained :)\n",
        "\n",
        "Here is a reference on how to save and load sklearn and tensorflow models!\n",
        "\n",
        "For sklearn:\n",
        "```python\n",
        "from joblib import dump, load\n",
        "\n",
        "# ====== Save model ========\n",
        "dump(model, 'filename.joblib')\n",
        "\n",
        "# ====== Load model ========\n",
        "clf = load('filename.joblib')\n",
        "```\n",
        "\n",
        "For tensorflow:\n",
        "```python\n",
        "import tensorflow as tf\n",
        "\n",
        "# ====== Save model ========\n",
        "model.save(\"filename.keras\")\n",
        "\n",
        "# ====== Load model ========\n",
        "tf.keras.models.load_model(\"filename.keras\")\n",
        "```\n",
        "\n",
        "Our model today is going to be a tensorflow model! Let's load in the model we created last time. Run the cell below to fetch the location of your CNN model. Use our `load_model()` function from above to load in our Keras file!\n",
        "\n",
        "\n"
      ],
      "metadata": {
        "id": "21apfMGTnquH"
      }
    },
    {
      "cell_type": "code",
      "source": [
        "from google.colab import drive\n",
        "\n",
        "# Load the model from Google Drive and save to `model`\n",
        "drive.mount('/content/gdrive')\n",
        "\n",
        "file_name = \"cnn_model_pneumonia_detection.keras\" # Change this if your file is named differently!\n",
        "cnn_path = \"/content/gdrive/MyDrive/\" + file_name\n",
        "model = tf.keras.models.load_model(cnn_path)\n",
        "\n",
        "# Save a copy of the model for later use with our Streamlit app\n",
        "!cp {cnn_path} .\n",
        "\n",
        "# Disconnect Drive\n",
        "drive.flush_and_unmount()"
      ],
      "metadata": {
        "id": "xn3AmsTvy7jj",
        "colab": {
          "base_uri": "https://localhost:8080/"
        },
        "outputId": "a267a5bd-2770-4911-df40-cb6346ecf6f4"
      },
      "execution_count": 11,
      "outputs": [
        {
          "output_type": "stream",
          "name": "stdout",
          "text": [
            "Mounted at /content/gdrive\n"
          ]
        }
      ]
    },
    {
      "cell_type": "code",
      "source": [
        "# Take a look at the model summary\n",
        "model.summary()"
      ],
      "metadata": {
        "id": "BqtYap1OwPcr",
        "colab": {
          "base_uri": "https://localhost:8080/",
          "height": 545
        },
        "outputId": "0930b941-9eb6-4514-e840-ee1667734c76"
      },
      "execution_count": 12,
      "outputs": [
        {
          "output_type": "display_data",
          "data": {
            "text/plain": [
              "\u001b[1mModel: \"sequential_10\"\u001b[0m\n"
            ],
            "text/html": [
              "<pre style=\"white-space:pre;overflow-x:auto;line-height:normal;font-family:Menlo,'DejaVu Sans Mono',consolas,'Courier New',monospace\"><span style=\"font-weight: bold\">Model: \"sequential_10\"</span>\n",
              "</pre>\n"
            ]
          },
          "metadata": {}
        },
        {
          "output_type": "display_data",
          "data": {
            "text/plain": [
              "┏━━━━━━━━━━━━━━━━━━━━━━━━━━━━━━━━━┳━━━━━━━━━━━━━━━━━━━━━━━━┳━━━━━━━━━━━━━━━┓\n",
              "┃\u001b[1m \u001b[0m\u001b[1mLayer (type)                   \u001b[0m\u001b[1m \u001b[0m┃\u001b[1m \u001b[0m\u001b[1mOutput Shape          \u001b[0m\u001b[1m \u001b[0m┃\u001b[1m \u001b[0m\u001b[1m      Param #\u001b[0m\u001b[1m \u001b[0m┃\n",
              "┡━━━━━━━━━━━━━━━━━━━━━━━━━━━━━━━━━╇━━━━━━━━━━━━━━━━━━━━━━━━╇━━━━━━━━━━━━━━━┩\n",
              "│ conv2d_35 (\u001b[38;5;33mConv2D\u001b[0m)              │ (\u001b[38;5;45mNone\u001b[0m, \u001b[38;5;34m64\u001b[0m, \u001b[38;5;34m64\u001b[0m, \u001b[38;5;34m32\u001b[0m)     │           \u001b[38;5;34m896\u001b[0m │\n",
              "├─────────────────────────────────┼────────────────────────┼───────────────┤\n",
              "│ activation_35 (\u001b[38;5;33mActivation\u001b[0m)      │ (\u001b[38;5;45mNone\u001b[0m, \u001b[38;5;34m64\u001b[0m, \u001b[38;5;34m64\u001b[0m, \u001b[38;5;34m32\u001b[0m)     │             \u001b[38;5;34m0\u001b[0m │\n",
              "├─────────────────────────────────┼────────────────────────┼───────────────┤\n",
              "│ max_pooling2d_35 (\u001b[38;5;33mMaxPooling2D\u001b[0m) │ (\u001b[38;5;45mNone\u001b[0m, \u001b[38;5;34m32\u001b[0m, \u001b[38;5;34m32\u001b[0m, \u001b[38;5;34m32\u001b[0m)     │             \u001b[38;5;34m0\u001b[0m │\n",
              "├─────────────────────────────────┼────────────────────────┼───────────────┤\n",
              "│ conv2d_36 (\u001b[38;5;33mConv2D\u001b[0m)              │ (\u001b[38;5;45mNone\u001b[0m, \u001b[38;5;34m32\u001b[0m, \u001b[38;5;34m32\u001b[0m, \u001b[38;5;34m64\u001b[0m)     │        \u001b[38;5;34m18,496\u001b[0m │\n",
              "├─────────────────────────────────┼────────────────────────┼───────────────┤\n",
              "│ activation_36 (\u001b[38;5;33mActivation\u001b[0m)      │ (\u001b[38;5;45mNone\u001b[0m, \u001b[38;5;34m32\u001b[0m, \u001b[38;5;34m32\u001b[0m, \u001b[38;5;34m64\u001b[0m)     │             \u001b[38;5;34m0\u001b[0m │\n",
              "├─────────────────────────────────┼────────────────────────┼───────────────┤\n",
              "│ max_pooling2d_36 (\u001b[38;5;33mMaxPooling2D\u001b[0m) │ (\u001b[38;5;45mNone\u001b[0m, \u001b[38;5;34m16\u001b[0m, \u001b[38;5;34m16\u001b[0m, \u001b[38;5;34m64\u001b[0m)     │             \u001b[38;5;34m0\u001b[0m │\n",
              "├─────────────────────────────────┼────────────────────────┼───────────────┤\n",
              "│ flatten_10 (\u001b[38;5;33mFlatten\u001b[0m)            │ (\u001b[38;5;45mNone\u001b[0m, \u001b[38;5;34m16384\u001b[0m)          │             \u001b[38;5;34m0\u001b[0m │\n",
              "├─────────────────────────────────┼────────────────────────┼───────────────┤\n",
              "│ dense_30 (\u001b[38;5;33mDense\u001b[0m)                │ (\u001b[38;5;45mNone\u001b[0m, \u001b[38;5;34m128\u001b[0m)            │     \u001b[38;5;34m2,097,280\u001b[0m │\n",
              "├─────────────────────────────────┼────────────────────────┼───────────────┤\n",
              "│ dropout_20 (\u001b[38;5;33mDropout\u001b[0m)            │ (\u001b[38;5;45mNone\u001b[0m, \u001b[38;5;34m128\u001b[0m)            │             \u001b[38;5;34m0\u001b[0m │\n",
              "├─────────────────────────────────┼────────────────────────┼───────────────┤\n",
              "│ dense_31 (\u001b[38;5;33mDense\u001b[0m)                │ (\u001b[38;5;45mNone\u001b[0m, \u001b[38;5;34m64\u001b[0m)             │         \u001b[38;5;34m8,256\u001b[0m │\n",
              "├─────────────────────────────────┼────────────────────────┼───────────────┤\n",
              "│ dropout_21 (\u001b[38;5;33mDropout\u001b[0m)            │ (\u001b[38;5;45mNone\u001b[0m, \u001b[38;5;34m64\u001b[0m)             │             \u001b[38;5;34m0\u001b[0m │\n",
              "├─────────────────────────────────┼────────────────────────┼───────────────┤\n",
              "│ dense_32 (\u001b[38;5;33mDense\u001b[0m)                │ (\u001b[38;5;45mNone\u001b[0m, \u001b[38;5;34m1\u001b[0m)              │            \u001b[38;5;34m65\u001b[0m │\n",
              "└─────────────────────────────────┴────────────────────────┴───────────────┘\n"
            ],
            "text/html": [
              "<pre style=\"white-space:pre;overflow-x:auto;line-height:normal;font-family:Menlo,'DejaVu Sans Mono',consolas,'Courier New',monospace\">┏━━━━━━━━━━━━━━━━━━━━━━━━━━━━━━━━━┳━━━━━━━━━━━━━━━━━━━━━━━━┳━━━━━━━━━━━━━━━┓\n",
              "┃<span style=\"font-weight: bold\"> Layer (type)                    </span>┃<span style=\"font-weight: bold\"> Output Shape           </span>┃<span style=\"font-weight: bold\">       Param # </span>┃\n",
              "┡━━━━━━━━━━━━━━━━━━━━━━━━━━━━━━━━━╇━━━━━━━━━━━━━━━━━━━━━━━━╇━━━━━━━━━━━━━━━┩\n",
              "│ conv2d_35 (<span style=\"color: #0087ff; text-decoration-color: #0087ff\">Conv2D</span>)              │ (<span style=\"color: #00d7ff; text-decoration-color: #00d7ff\">None</span>, <span style=\"color: #00af00; text-decoration-color: #00af00\">64</span>, <span style=\"color: #00af00; text-decoration-color: #00af00\">64</span>, <span style=\"color: #00af00; text-decoration-color: #00af00\">32</span>)     │           <span style=\"color: #00af00; text-decoration-color: #00af00\">896</span> │\n",
              "├─────────────────────────────────┼────────────────────────┼───────────────┤\n",
              "│ activation_35 (<span style=\"color: #0087ff; text-decoration-color: #0087ff\">Activation</span>)      │ (<span style=\"color: #00d7ff; text-decoration-color: #00d7ff\">None</span>, <span style=\"color: #00af00; text-decoration-color: #00af00\">64</span>, <span style=\"color: #00af00; text-decoration-color: #00af00\">64</span>, <span style=\"color: #00af00; text-decoration-color: #00af00\">32</span>)     │             <span style=\"color: #00af00; text-decoration-color: #00af00\">0</span> │\n",
              "├─────────────────────────────────┼────────────────────────┼───────────────┤\n",
              "│ max_pooling2d_35 (<span style=\"color: #0087ff; text-decoration-color: #0087ff\">MaxPooling2D</span>) │ (<span style=\"color: #00d7ff; text-decoration-color: #00d7ff\">None</span>, <span style=\"color: #00af00; text-decoration-color: #00af00\">32</span>, <span style=\"color: #00af00; text-decoration-color: #00af00\">32</span>, <span style=\"color: #00af00; text-decoration-color: #00af00\">32</span>)     │             <span style=\"color: #00af00; text-decoration-color: #00af00\">0</span> │\n",
              "├─────────────────────────────────┼────────────────────────┼───────────────┤\n",
              "│ conv2d_36 (<span style=\"color: #0087ff; text-decoration-color: #0087ff\">Conv2D</span>)              │ (<span style=\"color: #00d7ff; text-decoration-color: #00d7ff\">None</span>, <span style=\"color: #00af00; text-decoration-color: #00af00\">32</span>, <span style=\"color: #00af00; text-decoration-color: #00af00\">32</span>, <span style=\"color: #00af00; text-decoration-color: #00af00\">64</span>)     │        <span style=\"color: #00af00; text-decoration-color: #00af00\">18,496</span> │\n",
              "├─────────────────────────────────┼────────────────────────┼───────────────┤\n",
              "│ activation_36 (<span style=\"color: #0087ff; text-decoration-color: #0087ff\">Activation</span>)      │ (<span style=\"color: #00d7ff; text-decoration-color: #00d7ff\">None</span>, <span style=\"color: #00af00; text-decoration-color: #00af00\">32</span>, <span style=\"color: #00af00; text-decoration-color: #00af00\">32</span>, <span style=\"color: #00af00; text-decoration-color: #00af00\">64</span>)     │             <span style=\"color: #00af00; text-decoration-color: #00af00\">0</span> │\n",
              "├─────────────────────────────────┼────────────────────────┼───────────────┤\n",
              "│ max_pooling2d_36 (<span style=\"color: #0087ff; text-decoration-color: #0087ff\">MaxPooling2D</span>) │ (<span style=\"color: #00d7ff; text-decoration-color: #00d7ff\">None</span>, <span style=\"color: #00af00; text-decoration-color: #00af00\">16</span>, <span style=\"color: #00af00; text-decoration-color: #00af00\">16</span>, <span style=\"color: #00af00; text-decoration-color: #00af00\">64</span>)     │             <span style=\"color: #00af00; text-decoration-color: #00af00\">0</span> │\n",
              "├─────────────────────────────────┼────────────────────────┼───────────────┤\n",
              "│ flatten_10 (<span style=\"color: #0087ff; text-decoration-color: #0087ff\">Flatten</span>)            │ (<span style=\"color: #00d7ff; text-decoration-color: #00d7ff\">None</span>, <span style=\"color: #00af00; text-decoration-color: #00af00\">16384</span>)          │             <span style=\"color: #00af00; text-decoration-color: #00af00\">0</span> │\n",
              "├─────────────────────────────────┼────────────────────────┼───────────────┤\n",
              "│ dense_30 (<span style=\"color: #0087ff; text-decoration-color: #0087ff\">Dense</span>)                │ (<span style=\"color: #00d7ff; text-decoration-color: #00d7ff\">None</span>, <span style=\"color: #00af00; text-decoration-color: #00af00\">128</span>)            │     <span style=\"color: #00af00; text-decoration-color: #00af00\">2,097,280</span> │\n",
              "├─────────────────────────────────┼────────────────────────┼───────────────┤\n",
              "│ dropout_20 (<span style=\"color: #0087ff; text-decoration-color: #0087ff\">Dropout</span>)            │ (<span style=\"color: #00d7ff; text-decoration-color: #00d7ff\">None</span>, <span style=\"color: #00af00; text-decoration-color: #00af00\">128</span>)            │             <span style=\"color: #00af00; text-decoration-color: #00af00\">0</span> │\n",
              "├─────────────────────────────────┼────────────────────────┼───────────────┤\n",
              "│ dense_31 (<span style=\"color: #0087ff; text-decoration-color: #0087ff\">Dense</span>)                │ (<span style=\"color: #00d7ff; text-decoration-color: #00d7ff\">None</span>, <span style=\"color: #00af00; text-decoration-color: #00af00\">64</span>)             │         <span style=\"color: #00af00; text-decoration-color: #00af00\">8,256</span> │\n",
              "├─────────────────────────────────┼────────────────────────┼───────────────┤\n",
              "│ dropout_21 (<span style=\"color: #0087ff; text-decoration-color: #0087ff\">Dropout</span>)            │ (<span style=\"color: #00d7ff; text-decoration-color: #00d7ff\">None</span>, <span style=\"color: #00af00; text-decoration-color: #00af00\">64</span>)             │             <span style=\"color: #00af00; text-decoration-color: #00af00\">0</span> │\n",
              "├─────────────────────────────────┼────────────────────────┼───────────────┤\n",
              "│ dense_32 (<span style=\"color: #0087ff; text-decoration-color: #0087ff\">Dense</span>)                │ (<span style=\"color: #00d7ff; text-decoration-color: #00d7ff\">None</span>, <span style=\"color: #00af00; text-decoration-color: #00af00\">1</span>)              │            <span style=\"color: #00af00; text-decoration-color: #00af00\">65</span> │\n",
              "└─────────────────────────────────┴────────────────────────┴───────────────┘\n",
              "</pre>\n"
            ]
          },
          "metadata": {}
        },
        {
          "output_type": "display_data",
          "data": {
            "text/plain": [
              "\u001b[1m Total params: \u001b[0m\u001b[38;5;34m4,249,988\u001b[0m (16.21 MB)\n"
            ],
            "text/html": [
              "<pre style=\"white-space:pre;overflow-x:auto;line-height:normal;font-family:Menlo,'DejaVu Sans Mono',consolas,'Courier New',monospace\"><span style=\"font-weight: bold\"> Total params: </span><span style=\"color: #00af00; text-decoration-color: #00af00\">4,249,988</span> (16.21 MB)\n",
              "</pre>\n"
            ]
          },
          "metadata": {}
        },
        {
          "output_type": "display_data",
          "data": {
            "text/plain": [
              "\u001b[1m Trainable params: \u001b[0m\u001b[38;5;34m2,124,993\u001b[0m (8.11 MB)\n"
            ],
            "text/html": [
              "<pre style=\"white-space:pre;overflow-x:auto;line-height:normal;font-family:Menlo,'DejaVu Sans Mono',consolas,'Courier New',monospace\"><span style=\"font-weight: bold\"> Trainable params: </span><span style=\"color: #00af00; text-decoration-color: #00af00\">2,124,993</span> (8.11 MB)\n",
              "</pre>\n"
            ]
          },
          "metadata": {}
        },
        {
          "output_type": "display_data",
          "data": {
            "text/plain": [
              "\u001b[1m Non-trainable params: \u001b[0m\u001b[38;5;34m0\u001b[0m (0.00 B)\n"
            ],
            "text/html": [
              "<pre style=\"white-space:pre;overflow-x:auto;line-height:normal;font-family:Menlo,'DejaVu Sans Mono',consolas,'Courier New',monospace\"><span style=\"font-weight: bold\"> Non-trainable params: </span><span style=\"color: #00af00; text-decoration-color: #00af00\">0</span> (0.00 B)\n",
              "</pre>\n"
            ]
          },
          "metadata": {}
        },
        {
          "output_type": "display_data",
          "data": {
            "text/plain": [
              "\u001b[1m Optimizer params: \u001b[0m\u001b[38;5;34m2,124,995\u001b[0m (8.11 MB)\n"
            ],
            "text/html": [
              "<pre style=\"white-space:pre;overflow-x:auto;line-height:normal;font-family:Menlo,'DejaVu Sans Mono',consolas,'Courier New',monospace\"><span style=\"font-weight: bold\"> Optimizer params: </span><span style=\"color: #00af00; text-decoration-color: #00af00\">2,124,995</span> (8.11 MB)\n",
              "</pre>\n"
            ]
          },
          "metadata": {}
        }
      ]
    },
    {
      "cell_type": "markdown",
      "source": [
        "## **Part 3: Building your app**\n"
      ],
      "metadata": {
        "id": "jG7GJI1MwgLJ"
      }
    },
    {
      "cell_type": "markdown",
      "source": [
        "Fill in the below `app.py` file to load in your model and allow for image uploads! If you're confused about any of the code, feel free to ask your instructor. The [Streamlit cheat sheet](https://docs.streamlit.io/library/cheatsheet) should also be helpful for the Streamlit code, and the previous notebooks should be helpful for the code interacting with your model!\n",
        "\n",
        "To help you with this block of code, we've taken care of some of the hassle of processing the different formats and sizes of images your app might encounter! Take a look at the `process_image()` function defined in the code cell below to make sure you understand what each step is doing."
      ],
      "metadata": {
        "id": "aY2nqV-0S1Tt"
      }
    },
    {
      "cell_type": "code",
      "source": [
        "#@title Example Instructor Solution\n",
        "%%writefile app.py\n",
        "import streamlit as st\n",
        "import numpy as np\n",
        "import tensorflow as tf\n",
        "from PIL import Image\n",
        "\n",
        "# Load the CNN model\n",
        "cnn = tf.keras.models.load_model('cnn_model_pneumonia_detection.keras')\n",
        "\n",
        "# Create a title\n",
        "st.title(\"Medical Imaging\")\n",
        "\n",
        "# Function to process and classify the uploaded image\n",
        "def process_image(image):\n",
        "    # Convert the image to RGB mode\n",
        "    image = image.convert('RGB')\n",
        "\n",
        "    # Resize the image\n",
        "    image = image.resize((64, 64))\n",
        "\n",
        "    # Convert the image to an array and normalize\n",
        "    img_array = np.array(image).astype('float32')\n",
        "    img_array = img_array / 255.0\n",
        "\n",
        "    # Expand dimensions to match the expected input shape\n",
        "    img_array = np.expand_dims(img_array, axis=0)\n",
        "\n",
        "    return img_array\n",
        "\n",
        "# Display the image upload widget\n",
        "uploaded_file = st.file_uploader(\"Select Image\", type=[\"png\", \"jpg\", \"jpeg\"])\n",
        "\n",
        "# Perform prediction and display the result\n",
        "if uploaded_file is not None:\n",
        "    # Read the uploaded image\n",
        "    image = Image.open(uploaded_file)\n",
        "\n",
        "    # Process and classify the image\n",
        "    processed_image = process_image(image)\n",
        "    prediction = cnn.predict(processed_image)\n",
        "    prediction_label = (prediction > 0.5).astype(int)\n",
        "    diagnosis = \"Pneumonia\" if prediction_label else \"No Pneumonia\"\n",
        "\n",
        "    # Display the processed image\n",
        "    st.image(image)\n",
        "\n",
        "    # Display the predicted diagnosis and confidence score\n",
        "    confidence = prediction[0][0] if prediction_label else 1 - prediction[0][0]\n",
        "    st.header(\"Prediction\")\n",
        "    st.subheader(\"Diagnosis\")\n",
        "    st.write(diagnosis)\n",
        "    st.subheader(\"Confidence Score\")\n",
        "    st.write(f\"{confidence:.2%}\")\n",
        "\n",
        "# Display the model architecture\n",
        "st.subheader(\"Model Architecture\")\n",
        "cnn.summary(print_fn=st.text)"
      ],
      "metadata": {
        "id": "TxSXljFNTPRT",
        "colab": {
          "base_uri": "https://localhost:8080/"
        },
        "outputId": "b05563f8-9352-4087-fbbe-0299aea61867"
      },
      "execution_count": 17,
      "outputs": [
        {
          "output_type": "stream",
          "name": "stdout",
          "text": [
            "Overwriting app.py\n"
          ]
        }
      ]
    },
    {
      "cell_type": "markdown",
      "source": [
        "While running your site, you can try fetching some images from our original dataset below. You can download the image by right-clicking the generated image and <font color=\"#4169E1\"><b>`Save image as...`</b></font> before uploading it to your site!"
      ],
      "metadata": {
        "id": "NqcAZeUZsNNO"
      }
    },
    {
      "cell_type": "code",
      "source": [
        "#@title Fetch Image { run: \"auto\", vertical-output: true, display-mode: \"form\" }\n",
        "\n",
        "# Load the image data\n",
        "image_data = np.load('image_data.npy')\n",
        "\n",
        "# Load the metadata\n",
        "metadata = pkg.get_metadata(metadata_path, ['train', 'test'])\n",
        "\n",
        "# Choose an index to download the corresponding image\n",
        "index = 0 #@param {type:\"integer\"}\n",
        "\n",
        "# Get the image from the data array\n",
        "image = image_data[index]\n",
        "\n",
        "# Remove the extra channel if it exists\n",
        "if image.shape[-1] == 4:\n",
        "    image = image[:, :, :3]\n",
        "\n",
        "# Create a PIL image object\n",
        "pil_image = Image.fromarray(np.uint8(image))\n",
        "\n",
        "# Get the label for the image using the metadata\n",
        "label = metadata.iloc[index]['class']  # Replace 'class' with the appropriate column name in your metadata\n",
        "if label == 0:\n",
        "    label = 'No Pneumonia'\n",
        "else:\n",
        "    label = 'Pneumonia'\n",
        "\n",
        "# Display the image\n",
        "plt.imshow(image)\n",
        "plt.axis('off')\n",
        "plt.title('Image')\n",
        "plt.show()\n",
        "\n",
        "# Print the label to the terminal\n",
        "print(f'Label: {label}')"
      ],
      "metadata": {
        "id": "Q6-67Rs_QYA4",
        "colab": {
          "base_uri": "https://localhost:8080/",
          "height": 446
        },
        "outputId": "c66037f9-0062-40a8-81ca-8adefc08600a"
      },
      "execution_count": 14,
      "outputs": [
        {
          "output_type": "display_data",
          "data": {
            "text/plain": [
              "<Figure size 640x480 with 1 Axes>"
            ],
            "image/png": "[encoded data removed]"
          },
          "metadata": {}
        },
        {
          "output_type": "stream",
          "name": "stdout",
          "text": [
            "Label: No Pneumonia\n"
          ]
        }
      ]
    },
    {
      "cell_type": "code",
      "source": [
        "# Publish Web App (Run this again whenever you make changes)\n",
        "launch_website()"
      ],
      "metadata": {
        "id": "EgWjdatpFYzl",
        "colab": {
          "base_uri": "https://localhost:8080/"
        },
        "outputId": "cc4ccdda-a44f-4cd7-e13c-774254c24f24"
      },
      "execution_count": null,
      "outputs": [
        {
          "output_type": "stream",
          "name": "stdout",
          "text": [
            "Click this link to try your web app:\n",
            "https://57e62cad4414.ngrok-free.app\n",
            "2025-07-22 05:25:33.319785: E external/local_xla/xla/stream_executor/cuda/cuda_fft.cc:477] Unable to register cuFFT factory: Attempting to register factory for plugin cuFFT when one has already been registered\n",
            "WARNING: All log messages before absl::InitializeLog() is called are written to STDERR\n",
            "E0000 00:00:1753161933.347937    5464 cuda_dnn.cc:8310] Unable to register cuDNN factory: Attempting to register factory for plugin cuDNN when one has already been registered\n",
            "E0000 00:00:1753161933.356212    5464 cuda_blas.cc:1418] Unable to register cuBLAS factory: Attempting to register factory for plugin cuBLAS when one has already been registered\n",
            "2025-07-22 05:25:37.802418: E external/local_xla/xla/stream_executor/cuda/cuda_driver.cc:152] failed call to cuInit: INTERNAL: CUDA error: Failed call to cuInit: UNKNOWN ERROR (303)\n",
            "WARNING: All log messages before absl::InitializeLog() is called are written to STDERR\n",
            "I0000 00:00:1753161959.030983    5496 service.cc:148] XLA service 0x7e6fd0007d60 initialized for platform Host (this does not guarantee that XLA will be used). Devices:\n",
            "I0000 00:00:1753161959.031068    5496 service.cc:156]   StreamExecutor device (0): Host, Default Version\n",
            "I0000 00:00:1753161959.162451    5496 device_compiler.h:188] Compiled cluster using XLA!  This line is logged at most once for the lifetime of the process.\n"
          ]
        }
      ]
    },
    {
      "cell_type": "code",
      "source": [],
      "metadata": {
        "id": "pA0RqJBTl_ZK"
      },
      "execution_count": null,
      "outputs": []
    }
  ],
  "metadata": {
    "colab": {
      "provenance": [],
      "include_colab_link": true
    },
    "kernelspec": {
      "display_name": "Python 3",
      "name": "python3"
    }
  },
  "nbformat": 4,
  "nbformat_minor": 0
}